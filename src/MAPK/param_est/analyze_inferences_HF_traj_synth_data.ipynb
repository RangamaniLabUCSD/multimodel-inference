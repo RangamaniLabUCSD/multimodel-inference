{
 "cells": [
  {
   "cell_type": "code",
   "execution_count": 84,
   "metadata": {},
   "outputs": [],
   "source": [
    "import arviz as az\n",
    "import pandas as pd\n",
    "import json\n",
    "import os\n",
    "\n",
    "import numpy as np\n",
    "import diffrax\n",
    "import matplotlib.pyplot as plt\n",
    "import seaborn as sns\n",
    "import jax\n",
    "import sys\n",
    "from scipy.stats import mode\n",
    "from tqdm import tqdm\n",
    "\n",
    "from timeout import timeout\n",
    "\n",
    "sys.path.append(\"../models/\")\n",
    "from huang_ferrell_1996 import *\n",
    "from bhalla_iyengar_1999 import *\n",
    "from kholodenko_2000 import *\n",
    "from levchenko_2000 import *\n",
    "from brightman_fell_2000 import *\n",
    "from schoeberl_2002 import *\n",
    "from hatakeyama_2003 import *\n",
    "from hornberg_2005 import *\n",
    "from birtwistle_2007 import *\n",
    "from orton_2009 import *\n",
    "from vonKriegsheim_2009 import *\n",
    "from shin_2014 import *\n",
    "from ryu_2015 import *\n",
    "from kochanczyk_2017 import *\n",
    "from dessauges_2022 import *\n",
    "\n",
    "jax.config.update(\"jax_enable_x64\", True)\n",
    "%matplotlib inline\n",
    "\n",
    "sys.path.insert(0, '../')\n",
    "from utils import *\n",
    "\n",
    "rng = np.random.default_rng(seed=1234)\n",
    "\n",
    "# # On Martini set the visible GPU to the 2080Ti\n",
    "# %env CUDA_VISIBLE_DEVICES=1"
   ]
  },
  {
   "cell_type": "markdown",
   "metadata": {},
   "source": [
    "## Synthetic Data"
   ]
  },
  {
   "cell_type": "code",
   "execution_count": 10,
   "metadata": {},
   "outputs": [],
   "source": [
    "# Kholodenko 2000\n",
    "K_2000_idata, K_2000_ss, K_2000_sample_time = load_smc_samples_to_idata('../../../results/MAPK/param_est/HF96_traj_synthetic_data/kholodenko_2000/kholodenko_2000_smc_samples.json', sample_time=True)\n",
    "K_2000_post = np.load('../../../results/MAPK/param_est/HF96_traj_synthetic_data/kholodenko_2000/kholodenko_2000_posterior_predictive_samples.npy')\n",
    "# Levchenko 2000\n",
    "L_2000_idata, L_2000_ss, L_2000_sample_time = load_smc_samples_to_idata('../../../results/MAPK/param_est/HF96_traj_synthetic_data/levchenko_2000/levchenko_2000_smc_samples.json', sample_time=True)\n",
    "L_2000_post = np.load('../../../results/MAPK/param_est/HF96_traj_synthetic_data/levchenko_2000/levchenko_2000_posterior_predictive_samples.npy')\n",
    "# Hatakeyama 2003\n",
    "HK_2003_idata, HK_2003_ss, HK_2003_sample_time = load_smc_samples_to_idata('../../../results/MAPK/param_est/HF96_traj_synthetic_data/hatakeyama_2003/hatakeyama_2003_smc_samples.json', sample_time=True)\n",
    "HK_2003_post = np.load('../../../results/MAPK/param_est/HF96_traj_synthetic_data/hatakeyama_2003/hatakeyama_2003_posterior_predictive_samples.npy')\n",
    "# Hornberg 2005\n",
    "H_2005_idata, H_2005_ss, H_2005_sample_time = load_smc_samples_to_idata('../../../results/MAPK/param_est/HF96_traj_synthetic_data/hornberg_2005/hornberg_2005_smc_samples.json', sample_time=True)\n",
    "H_2005_post = np.load('../../../results/MAPK/param_est/HF96_traj_synthetic_data/hornberg_2005/hornberg_2005_posterior_predictive_samples.npy')\n",
    "# Birtwistle 2007\n",
    "B_2007_idata, B_2007_ss, B_2007_sample_time = load_smc_samples_to_idata('../../../results/MAPK/param_est/HF96_traj_synthetic_data/birtwistle_2007/birtwistle_2007_smc_samples.json', sample_time=True)\n",
    "B_2007_post = np.load('../../../results/MAPK/param_est/HF96_traj_synthetic_data/birtwistle_2007/birtwistle_2007_posterior_predictive_samples.npy')\n",
    "# Orton 2009\n",
    "O_2009_idata, O_2009_ss, O_2009_sample_time = load_smc_samples_to_idata('../../../results/MAPK/param_est/HF96_traj_synthetic_data/orton_2009/orton_2009_smc_samples.json', sample_time=True) \n",
    "O_2009_post = np.load('../../../results/MAPK/param_est/HF96_traj_synthetic_data/orton_2009/orton_2009_posterior_predictive_samples.npy')\n",
    "# von Kreigsheim 2009\n",
    "vK_2009_idata, VK_2009_ss, VK_2009_sampleTime = load_smc_samples_to_idata('../../../results/MAPK/param_est/HF96_traj_synthetic_data/vonKriegsheim_2009/vonKriegsheim_2009_smc_samples.json', sample_time=True)\n",
    "vK_2009_post = np.load('../../../results/MAPK/param_est/HF96_traj_synthetic_data/vonKriegsheim_2009/vonKriegsheim_2009_posterior_predictive_samples.npy')\n",
    "# Shin 2014\n",
    "S_2014_idata, S_2014_ss, S_2014_sample_time = load_smc_samples_to_idata('../../../results/MAPK/param_est/HF96_traj_synthetic_data/shin_2014/shin_2014_smc_samples.json', sample_time=True)\n",
    "S_2014_post = np.load('../../../results/MAPK/param_est/HF96_traj_synthetic_data/shin_2014/shin_2014_posterior_predictive_samples.npy')\n",
    "# Ryu 2015\n",
    "R_2015_idata, R_2015_ss, R_2015_sample_time = load_smc_samples_to_idata('../../../results/MAPK/param_est/HF96_traj_synthetic_data/ryu_2015/ryu_2015_smc_samples.json', sample_time=True)\n",
    "R_2015_post = np.load('../../../results/MAPK/param_est/HF96_traj_synthetic_data/ryu_2015/ryu_2015_posterior_predictive_samples.npy')\n",
    "# Kochańczyk 2017\n",
    "K_2017_idata, K_2017_ss, K_2017_sample_time = load_smc_samples_to_idata('../../../results/MAPK/param_est/HF96_traj_synthetic_data/kochanczyk_2017/kochanczyk_2017_smc_samples.json', sample_time=True) \n",
    "K_2017_post = np.load('../../../results/MAPK/param_est/HF96_traj_synthetic_data/kochanczyk_2017/kochanczyk_2017_posterior_predictive_samples.npy')\n",
    "\n",
    "model_names = ['kholodenko_2000', 'levchenko_2000', 'hatakeyama_2003','hornberg_2005', 'birtwistle_2007', 'orton_2009', 'vonKriegsheim_2009', 'shin_2014', 'ryu_2015', 'kochanczyk_2017']\n",
    "display_names = ['Kholodenko 2000', 'Levchenko 2000', 'Katakeyama 2003','Hornberg 2005', 'Birtwistle 2007', 'Orton 2009', 'von Kriegsheim 2009', 'Shin 2014', 'Ryu 2015', 'Kochańczyk 2017']\n",
    "\n",
    "# gather posterior samples\n",
    "posterior_samples = [K_2000_post, L_2000_post, HK_2003_post, H_2005_post, B_2007_post, O_2009_post, vK_2009_post, S_2014_post, R_2015_post, K_2017_post]\n",
    "idata = [K_2000_idata, L_2000_idata, HK_2003_idata, H_2005_idata, B_2007_idata, O_2009_idata, vK_2009_idata, S_2014_idata, R_2015_idata, K_2017_idata]\n",
    "\n",
    "shin_id = 7\n",
    "# shin has 4000 so downsample to 2000\n",
    "idxs = rng.choice(np.arange(4000), size=2000, replace=False)\n",
    "posterior_samples[shin_id] = S_2014_post[idxs,:,:]\n",
    "\n",
    "inputs, data, data_std, times = load_data_json('../../../results/MAPK/HF_96_traj_data.json', data_std=True, time=True)\n",
    "data_time_to_mins = 60\n",
    "\n",
    "\n",
    "inputs_dose_response, data_dose_response = load_data('../../../results/MAPK/HF_96_synthetic_data.csv')\n",
    "\n",
    "# set up a color palette\n",
    "# this is the ColorBrewer purple-green with 11 colors + three greys https://colorbrewer2.org/#type=diverging&scheme=PRGn&n=11\n",
    "colors = ['#40004b','#762a83','#9970ab','#c2a5cf','#e7d4e8','#f7f7f7','#d9f0d3','#a6dba0','#5aae61','#1b7837','#00441b','#363737','#929591','#d8dcd6']\n",
    "# this one gets to 10 colors by removing the darkest green\n",
    "colors = ['#40004b','#762a83','#9970ab','#c2a5cf','#e7d4e8','#f7f7f7','#d9f0d3','#a6dba0','#5aae61','#1b7837','#363737','#929591','#d8dcd6']\n",
    "orange = '#de8f05'"
   ]
  },
  {
   "cell_type": "markdown",
   "metadata": {},
   "source": [
    "Print sampling times for each model"
   ]
  },
  {
   "cell_type": "code",
   "execution_count": 11,
   "metadata": {},
   "outputs": [
    {
     "name": "stdout",
     "output_type": "stream",
     "text": [
      "kholodenko_2000: 6.6200209453370835 hr\n",
      "levchenko_2000: 0.4793780122200648 hr\n",
      "hatakeyama_2003: 3.0087754978073966 hr\n",
      "hornberg_2005: 12.131172452370325 hr\n",
      "birtwistle_2007: 54.02403524299463 hr\n",
      "orton_2009: 0.24648971736431122 hr\n",
      "vonKriegsheim_2009 2.746477815045251 hr\n",
      "shin_2014: 0.38646612101131017 hr\n",
      "ryu_2015: 0.23467397226227654 hr\n",
      "kochanczyk_2017: 1.919839056465361 hr\n"
     ]
    }
   ],
   "source": [
    "print('kholodenko_2000:', K_2000_sample_time/3600, 'hr')\n",
    "print('levchenko_2000:', L_2000_sample_time/3600, 'hr')\n",
    "print('hatakeyama_2003:', HK_2003_sample_time/3600, 'hr')\n",
    "print('hornberg_2005:', H_2005_sample_time/3600, 'hr')\n",
    "print('birtwistle_2007:', B_2007_sample_time/3600, 'hr')\n",
    "print('orton_2009:', O_2009_sample_time/3600, 'hr')\n",
    "print('vonKriegsheim_2009', VK_2009_sampleTime/3600, 'hr')\n",
    "print('shin_2014:', S_2014_sample_time/3600, 'hr')\n",
    "print('ryu_2015:', R_2015_sample_time/3600, 'hr')\n",
    "print('kochanczyk_2017:', K_2017_sample_time/3600, 'hr')\n"
   ]
  },
  {
   "cell_type": "markdown",
   "metadata": {},
   "source": [
    "## Make pretty posterior predictive trajectories"
   ]
  },
  {
   "cell_type": "code",
   "execution_count": 85,
   "metadata": {},
   "outputs": [
    {
     "name": "stdout",
     "output_type": "stream",
     "text": [
      "plotting kholodenko_2000\n",
      "plotting levchenko_2000\n"
     ]
    },
    {
     "ename": "KeyboardInterrupt",
     "evalue": "",
     "output_type": "error",
     "traceback": [
      "\u001b[0;31m---------------------------------------------------------------------------\u001b[0m",
      "\u001b[0;31mKeyboardInterrupt\u001b[0m                         Traceback (most recent call last)",
      "Cell \u001b[0;32mIn[85], line 8\u001b[0m\n\u001b[1;32m      6\u001b[0m     \u001b[38;5;28;01melse\u001b[39;00m:\n\u001b[1;32m      7\u001b[0m         \u001b[38;5;28mprint\u001b[39m(\u001b[38;5;124m'\u001b[39m\u001b[38;5;124mplotting\u001b[39m\u001b[38;5;124m'\u001b[39m, model_name)\n\u001b[0;32m----> 8\u001b[0m         \u001b[43mplot_posterior_trajectories\u001b[49m\u001b[43m(\u001b[49m\u001b[43mpost\u001b[49m\u001b[43m,\u001b[49m\u001b[43m \u001b[49m\u001b[43mdata\u001b[49m\u001b[43m,\u001b[49m\u001b[43m \u001b[49m\u001b[43mdata_std\u001b[49m\u001b[43m,\u001b[49m\u001b[43m \u001b[49m\u001b[43mtimes\u001b[49m\u001b[43m,\u001b[49m\u001b[43m \u001b[49m\u001b[43mcolors\u001b[49m\u001b[43m[\u001b[49m\u001b[43midx\u001b[49m\u001b[43m]\u001b[49m\u001b[43m,\u001b[49m\u001b[43m \u001b[49m\n\u001b[1;32m      9\u001b[0m \u001b[43m                                        \u001b[49m\u001b[43minputs\u001b[49m\u001b[43m,\u001b[49m\u001b[43m \u001b[49m\u001b[38;5;124;43m'\u001b[39;49m\u001b[38;5;124;43m../../../results/MAPK/param_est/HF96_traj_synthetic_data/\u001b[39;49m\u001b[38;5;124;43m'\u001b[39;49m\u001b[38;5;241;43m+\u001b[39;49m\u001b[43mmodel_name\u001b[49m\u001b[38;5;241;43m+\u001b[39;49m\u001b[38;5;124;43m'\u001b[39;49m\u001b[38;5;124;43m/\u001b[39;49m\u001b[38;5;124;43m'\u001b[39;49m\u001b[43m,\u001b[49m\u001b[43m \u001b[49m\u001b[43mmodel_name\u001b[49m\u001b[43m,\u001b[49m\u001b[43m \u001b[49m\u001b[43mdata_time_to_mins\u001b[49m\u001b[38;5;241;43m=\u001b[39;49m\u001b[38;5;241;43m60\u001b[39;49m\u001b[43m,\u001b[49m\n\u001b[1;32m     10\u001b[0m \u001b[43m                                        \u001b[49m\u001b[43mwidth\u001b[49m\u001b[38;5;241;43m=\u001b[39;49m\u001b[38;5;241;43m1.1\u001b[39;49m\u001b[43m,\u001b[49m\u001b[43m \u001b[49m\u001b[43mheight\u001b[49m\u001b[38;5;241;43m=\u001b[39;49m\u001b[38;5;241;43m0.5\u001b[39;49m\u001b[43m,\u001b[49m\u001b[43m \u001b[49m\u001b[43mdata_downsample\u001b[49m\u001b[38;5;241;43m=\u001b[39;49m\u001b[38;5;241;43m10\u001b[39;49m\u001b[43m,\u001b[49m\n\u001b[1;32m     11\u001b[0m \u001b[43m                                        \u001b[49m\u001b[43mylim\u001b[49m\u001b[38;5;241;43m=\u001b[39;49m\u001b[43m[\u001b[49m\u001b[43m[\u001b[49m\u001b[38;5;241;43m0.0\u001b[39;49m\u001b[43m,\u001b[49m\u001b[43m \u001b[49m\u001b[38;5;241;43m1.2\u001b[39;49m\u001b[43m]\u001b[49m\u001b[43m,\u001b[49m\u001b[43m \u001b[49m\u001b[43m[\u001b[49m\u001b[38;5;241;43m0.0\u001b[39;49m\u001b[43m,\u001b[49m\u001b[43m \u001b[49m\u001b[38;5;241;43m1.2\u001b[39;49m\u001b[43m]\u001b[49m\u001b[43m,\u001b[49m\u001b[43m \u001b[49m\u001b[43m[\u001b[49m\u001b[38;5;241;43m0.0\u001b[39;49m\u001b[43m,\u001b[49m\u001b[43m \u001b[49m\u001b[38;5;241;43m1.2\u001b[39;49m\u001b[43m]\u001b[49m\u001b[43m]\u001b[49m\u001b[43m,\u001b[49m\n\u001b[1;32m     12\u001b[0m \u001b[43m                                        \u001b[49m\u001b[43my_ticks\u001b[49m\u001b[38;5;241;43m=\u001b[39;49m\u001b[43m[\u001b[49m\u001b[43m[\u001b[49m\u001b[38;5;241;43m0.0\u001b[39;49m\u001b[43m,\u001b[49m\u001b[43m \u001b[49m\u001b[38;5;241;43m1.0\u001b[39;49m\u001b[43m]\u001b[49m\u001b[43m,\u001b[49m\u001b[43m \u001b[49m\u001b[43m[\u001b[49m\u001b[38;5;241;43m0.0\u001b[39;49m\u001b[43m,\u001b[49m\u001b[43m \u001b[49m\u001b[38;5;241;43m1.0\u001b[39;49m\u001b[43m]\u001b[49m\u001b[43m,\u001b[49m\u001b[43m \u001b[49m\u001b[43m[\u001b[49m\u001b[38;5;241;43m0.0\u001b[39;49m\u001b[43m,\u001b[49m\u001b[43m \u001b[49m\u001b[38;5;241;43m1.0\u001b[39;49m\u001b[43m]\u001b[49m\u001b[43m]\u001b[49m\u001b[43m)\u001b[49m\n\u001b[1;32m     13\u001b[0m plt\u001b[38;5;241m.\u001b[39mclose(\u001b[38;5;124m'\u001b[39m\u001b[38;5;124mall\u001b[39m\u001b[38;5;124m'\u001b[39m)\n",
      "File \u001b[0;32m~/Library/CloudStorage/Dropbox/Mac (2)/Documents/phd/research/multimodel-inference/src/MAPK/param_est/../utils.py:732\u001b[0m, in \u001b[0;36mplot_posterior_trajectories\u001b[0;34m(post_preds, data, data_std, times, color, EGF_levels, savedir, model_name, data_time_to_mins, y_ticks, ylim, xticklabels, data_downsample, width, height, fname)\u001b[0m\n\u001b[1;32m    729\u001b[0m ax\u001b[38;5;241m.\u001b[39mset_ylabel(\u001b[38;5;124m'\u001b[39m\u001b[38;5;124m'\u001b[39m)\n\u001b[1;32m    731\u001b[0m \u001b[38;5;66;03m# save the figure\u001b[39;00m\n\u001b[0;32m--> 732\u001b[0m \u001b[43mfig\u001b[49m\u001b[38;5;241;43m.\u001b[39;49m\u001b[43msavefig\u001b[49m\u001b[43m(\u001b[49m\u001b[43msavedir\u001b[49m\u001b[38;5;241;43m+\u001b[39;49m\u001b[43mmodel_name\u001b[49m\u001b[38;5;241;43m+\u001b[39;49m\u001b[43mfname\u001b[49m\u001b[38;5;241;43m+\u001b[39;49m\u001b[38;5;28;43mstr\u001b[39;49m\u001b[43m(\u001b[49m\u001b[43mnp\u001b[49m\u001b[38;5;241;43m.\u001b[39;49m\u001b[43mround\u001b[49m\u001b[43m(\u001b[49m\u001b[43mEGF_levels\u001b[49m\u001b[43m[\u001b[49m\u001b[43mstim_idx\u001b[49m\u001b[43m]\u001b[49m\u001b[43m,\u001b[49m\u001b[43m \u001b[49m\u001b[38;5;241;43m3\u001b[39;49m\u001b[43m)\u001b[49m\u001b[43m)\u001b[49m\u001b[38;5;241;43m+\u001b[39;49m\u001b[38;5;124;43m'\u001b[39;49m\u001b[38;5;124;43m.pdf\u001b[39;49m\u001b[38;5;124;43m'\u001b[39;49m\u001b[43m,\u001b[49m\u001b[43m \u001b[49m\u001b[43mbbox_inches\u001b[49m\u001b[38;5;241;43m=\u001b[39;49m\u001b[38;5;124;43m'\u001b[39;49m\u001b[38;5;124;43mtight\u001b[39;49m\u001b[38;5;124;43m'\u001b[39;49m\u001b[43m,\u001b[49m\u001b[43m \u001b[49m\u001b[43mtransparent\u001b[49m\u001b[38;5;241;43m=\u001b[39;49m\u001b[38;5;28;43;01mTrue\u001b[39;49;00m\u001b[43m)\u001b[49m\n",
      "File \u001b[0;32m~/miniforge3/envs/pymc/lib/python3.11/site-packages/matplotlib/figure.py:3390\u001b[0m, in \u001b[0;36mFigure.savefig\u001b[0;34m(self, fname, transparent, **kwargs)\u001b[0m\n\u001b[1;32m   3388\u001b[0m     \u001b[38;5;28;01mfor\u001b[39;00m ax \u001b[38;5;129;01min\u001b[39;00m \u001b[38;5;28mself\u001b[39m\u001b[38;5;241m.\u001b[39maxes:\n\u001b[1;32m   3389\u001b[0m         _recursively_make_axes_transparent(stack, ax)\n\u001b[0;32m-> 3390\u001b[0m \u001b[38;5;28;43mself\u001b[39;49m\u001b[38;5;241;43m.\u001b[39;49m\u001b[43mcanvas\u001b[49m\u001b[38;5;241;43m.\u001b[39;49m\u001b[43mprint_figure\u001b[49m\u001b[43m(\u001b[49m\u001b[43mfname\u001b[49m\u001b[43m,\u001b[49m\u001b[43m \u001b[49m\u001b[38;5;241;43m*\u001b[39;49m\u001b[38;5;241;43m*\u001b[39;49m\u001b[43mkwargs\u001b[49m\u001b[43m)\u001b[49m\n",
      "File \u001b[0;32m~/miniforge3/envs/pymc/lib/python3.11/site-packages/matplotlib/backend_bases.py:2193\u001b[0m, in \u001b[0;36mFigureCanvasBase.print_figure\u001b[0;34m(self, filename, dpi, facecolor, edgecolor, orientation, format, bbox_inches, pad_inches, bbox_extra_artists, backend, **kwargs)\u001b[0m\n\u001b[1;32m   2189\u001b[0m \u001b[38;5;28;01mtry\u001b[39;00m:\n\u001b[1;32m   2190\u001b[0m     \u001b[38;5;66;03m# _get_renderer may change the figure dpi (as vector formats\u001b[39;00m\n\u001b[1;32m   2191\u001b[0m     \u001b[38;5;66;03m# force the figure dpi to 72), so we need to set it again here.\u001b[39;00m\n\u001b[1;32m   2192\u001b[0m     \u001b[38;5;28;01mwith\u001b[39;00m cbook\u001b[38;5;241m.\u001b[39m_setattr_cm(\u001b[38;5;28mself\u001b[39m\u001b[38;5;241m.\u001b[39mfigure, dpi\u001b[38;5;241m=\u001b[39mdpi):\n\u001b[0;32m-> 2193\u001b[0m         result \u001b[38;5;241m=\u001b[39m \u001b[43mprint_method\u001b[49m\u001b[43m(\u001b[49m\n\u001b[1;32m   2194\u001b[0m \u001b[43m            \u001b[49m\u001b[43mfilename\u001b[49m\u001b[43m,\u001b[49m\n\u001b[1;32m   2195\u001b[0m \u001b[43m            \u001b[49m\u001b[43mfacecolor\u001b[49m\u001b[38;5;241;43m=\u001b[39;49m\u001b[43mfacecolor\u001b[49m\u001b[43m,\u001b[49m\n\u001b[1;32m   2196\u001b[0m \u001b[43m            \u001b[49m\u001b[43medgecolor\u001b[49m\u001b[38;5;241;43m=\u001b[39;49m\u001b[43medgecolor\u001b[49m\u001b[43m,\u001b[49m\n\u001b[1;32m   2197\u001b[0m \u001b[43m            \u001b[49m\u001b[43morientation\u001b[49m\u001b[38;5;241;43m=\u001b[39;49m\u001b[43morientation\u001b[49m\u001b[43m,\u001b[49m\n\u001b[1;32m   2198\u001b[0m \u001b[43m            \u001b[49m\u001b[43mbbox_inches_restore\u001b[49m\u001b[38;5;241;43m=\u001b[39;49m\u001b[43m_bbox_inches_restore\u001b[49m\u001b[43m,\u001b[49m\n\u001b[1;32m   2199\u001b[0m \u001b[43m            \u001b[49m\u001b[38;5;241;43m*\u001b[39;49m\u001b[38;5;241;43m*\u001b[39;49m\u001b[43mkwargs\u001b[49m\u001b[43m)\u001b[49m\n\u001b[1;32m   2200\u001b[0m \u001b[38;5;28;01mfinally\u001b[39;00m:\n\u001b[1;32m   2201\u001b[0m     \u001b[38;5;28;01mif\u001b[39;00m bbox_inches \u001b[38;5;129;01mand\u001b[39;00m restore_bbox:\n",
      "File \u001b[0;32m~/miniforge3/envs/pymc/lib/python3.11/site-packages/matplotlib/backend_bases.py:2043\u001b[0m, in \u001b[0;36mFigureCanvasBase._switch_canvas_and_return_print_method.<locals>.<lambda>\u001b[0;34m(*args, **kwargs)\u001b[0m\n\u001b[1;32m   2039\u001b[0m     optional_kws \u001b[38;5;241m=\u001b[39m {  \u001b[38;5;66;03m# Passed by print_figure for other renderers.\u001b[39;00m\n\u001b[1;32m   2040\u001b[0m         \u001b[38;5;124m\"\u001b[39m\u001b[38;5;124mdpi\u001b[39m\u001b[38;5;124m\"\u001b[39m, \u001b[38;5;124m\"\u001b[39m\u001b[38;5;124mfacecolor\u001b[39m\u001b[38;5;124m\"\u001b[39m, \u001b[38;5;124m\"\u001b[39m\u001b[38;5;124medgecolor\u001b[39m\u001b[38;5;124m\"\u001b[39m, \u001b[38;5;124m\"\u001b[39m\u001b[38;5;124morientation\u001b[39m\u001b[38;5;124m\"\u001b[39m,\n\u001b[1;32m   2041\u001b[0m         \u001b[38;5;124m\"\u001b[39m\u001b[38;5;124mbbox_inches_restore\u001b[39m\u001b[38;5;124m\"\u001b[39m}\n\u001b[1;32m   2042\u001b[0m     skip \u001b[38;5;241m=\u001b[39m optional_kws \u001b[38;5;241m-\u001b[39m {\u001b[38;5;241m*\u001b[39minspect\u001b[38;5;241m.\u001b[39msignature(meth)\u001b[38;5;241m.\u001b[39mparameters}\n\u001b[0;32m-> 2043\u001b[0m     print_method \u001b[38;5;241m=\u001b[39m functools\u001b[38;5;241m.\u001b[39mwraps(meth)(\u001b[38;5;28;01mlambda\u001b[39;00m \u001b[38;5;241m*\u001b[39margs, \u001b[38;5;241m*\u001b[39m\u001b[38;5;241m*\u001b[39mkwargs: \u001b[43mmeth\u001b[49m\u001b[43m(\u001b[49m\n\u001b[1;32m   2044\u001b[0m \u001b[43m        \u001b[49m\u001b[38;5;241;43m*\u001b[39;49m\u001b[43margs\u001b[49m\u001b[43m,\u001b[49m\u001b[43m \u001b[49m\u001b[38;5;241;43m*\u001b[39;49m\u001b[38;5;241;43m*\u001b[39;49m\u001b[43m{\u001b[49m\u001b[43mk\u001b[49m\u001b[43m:\u001b[49m\u001b[43m \u001b[49m\u001b[43mv\u001b[49m\u001b[43m \u001b[49m\u001b[38;5;28;43;01mfor\u001b[39;49;00m\u001b[43m \u001b[49m\u001b[43mk\u001b[49m\u001b[43m,\u001b[49m\u001b[43m \u001b[49m\u001b[43mv\u001b[49m\u001b[43m \u001b[49m\u001b[38;5;129;43;01min\u001b[39;49;00m\u001b[43m \u001b[49m\u001b[43mkwargs\u001b[49m\u001b[38;5;241;43m.\u001b[39;49m\u001b[43mitems\u001b[49m\u001b[43m(\u001b[49m\u001b[43m)\u001b[49m\u001b[43m \u001b[49m\u001b[38;5;28;43;01mif\u001b[39;49;00m\u001b[43m \u001b[49m\u001b[43mk\u001b[49m\u001b[43m \u001b[49m\u001b[38;5;129;43;01mnot\u001b[39;49;00m\u001b[43m \u001b[49m\u001b[38;5;129;43;01min\u001b[39;49;00m\u001b[43m \u001b[49m\u001b[43mskip\u001b[49m\u001b[43m}\u001b[49m\u001b[43m)\u001b[49m)\n\u001b[1;32m   2045\u001b[0m \u001b[38;5;28;01melse\u001b[39;00m:  \u001b[38;5;66;03m# Let third-parties do as they see fit.\u001b[39;00m\n\u001b[1;32m   2046\u001b[0m     print_method \u001b[38;5;241m=\u001b[39m meth\n",
      "File \u001b[0;32m~/miniforge3/envs/pymc/lib/python3.11/site-packages/matplotlib/backends/backend_pdf.py:2810\u001b[0m, in \u001b[0;36mFigureCanvasPdf.print_pdf\u001b[0;34m(self, filename, bbox_inches_restore, metadata)\u001b[0m\n\u001b[1;32m   2808\u001b[0m     renderer\u001b[38;5;241m.\u001b[39mfinalize()\n\u001b[1;32m   2809\u001b[0m     \u001b[38;5;28;01mif\u001b[39;00m \u001b[38;5;129;01mnot\u001b[39;00m \u001b[38;5;28misinstance\u001b[39m(filename, PdfPages):\n\u001b[0;32m-> 2810\u001b[0m         \u001b[43mfile\u001b[49m\u001b[38;5;241;43m.\u001b[39;49m\u001b[43mfinalize\u001b[49m\u001b[43m(\u001b[49m\u001b[43m)\u001b[49m\n\u001b[1;32m   2811\u001b[0m \u001b[38;5;28;01mfinally\u001b[39;00m:\n\u001b[1;32m   2812\u001b[0m     \u001b[38;5;28;01mif\u001b[39;00m \u001b[38;5;28misinstance\u001b[39m(filename, PdfPages):  \u001b[38;5;66;03m# finish off this page\u001b[39;00m\n",
      "File \u001b[0;32m~/miniforge3/envs/pymc/lib/python3.11/site-packages/matplotlib/backends/backend_pdf.py:828\u001b[0m, in \u001b[0;36mPdfFile.finalize\u001b[0;34m(self)\u001b[0m\n\u001b[1;32m    826\u001b[0m \u001b[38;5;28mself\u001b[39m\u001b[38;5;241m.\u001b[39mendStream()\n\u001b[1;32m    827\u001b[0m \u001b[38;5;28mself\u001b[39m\u001b[38;5;241m.\u001b[39m_write_annotations()\n\u001b[0;32m--> 828\u001b[0m \u001b[38;5;28;43mself\u001b[39;49m\u001b[38;5;241;43m.\u001b[39;49m\u001b[43mwriteFonts\u001b[49m\u001b[43m(\u001b[49m\u001b[43m)\u001b[49m\n\u001b[1;32m    829\u001b[0m \u001b[38;5;28mself\u001b[39m\u001b[38;5;241m.\u001b[39mwriteExtGSTates()\n\u001b[1;32m    830\u001b[0m \u001b[38;5;28mself\u001b[39m\u001b[38;5;241m.\u001b[39m_write_soft_mask_groups()\n",
      "File \u001b[0;32m~/miniforge3/envs/pymc/lib/python3.11/site-packages/matplotlib/backends/backend_pdf.py:974\u001b[0m, in \u001b[0;36mPdfFile.writeFonts\u001b[0;34m(self)\u001b[0m\n\u001b[1;32m    972\u001b[0m         chars \u001b[38;5;241m=\u001b[39m \u001b[38;5;28mself\u001b[39m\u001b[38;5;241m.\u001b[39m_character_tracker\u001b[38;5;241m.\u001b[39mused\u001b[38;5;241m.\u001b[39mget(filename)\n\u001b[1;32m    973\u001b[0m         \u001b[38;5;28;01mif\u001b[39;00m chars:\n\u001b[0;32m--> 974\u001b[0m             fonts[Fx] \u001b[38;5;241m=\u001b[39m \u001b[38;5;28;43mself\u001b[39;49m\u001b[38;5;241;43m.\u001b[39;49m\u001b[43membedTTF\u001b[49m\u001b[43m(\u001b[49m\u001b[43mfilename\u001b[49m\u001b[43m,\u001b[49m\u001b[43m \u001b[49m\u001b[43mchars\u001b[49m\u001b[43m)\u001b[49m\n\u001b[1;32m    975\u001b[0m \u001b[38;5;28mself\u001b[39m\u001b[38;5;241m.\u001b[39mwriteObject(\u001b[38;5;28mself\u001b[39m\u001b[38;5;241m.\u001b[39mfontObject, fonts)\n",
      "File \u001b[0;32m~/miniforge3/envs/pymc/lib/python3.11/site-packages/matplotlib/backends/backend_pdf.py:1453\u001b[0m, in \u001b[0;36mPdfFile.embedTTF\u001b[0;34m(self, filename, characters)\u001b[0m\n\u001b[1;32m   1451\u001b[0m     \u001b[38;5;28;01mreturn\u001b[39;00m embedTTFType3(font, characters, descriptor)\n\u001b[1;32m   1452\u001b[0m \u001b[38;5;28;01melif\u001b[39;00m fonttype \u001b[38;5;241m==\u001b[39m \u001b[38;5;241m42\u001b[39m:\n\u001b[0;32m-> 1453\u001b[0m     \u001b[38;5;28;01mreturn\u001b[39;00m \u001b[43membedTTFType42\u001b[49m\u001b[43m(\u001b[49m\u001b[43mfont\u001b[49m\u001b[43m,\u001b[49m\u001b[43m \u001b[49m\u001b[43mcharacters\u001b[49m\u001b[43m,\u001b[49m\u001b[43m \u001b[49m\u001b[43mdescriptor\u001b[49m\u001b[43m)\u001b[49m\n",
      "File \u001b[0;32m~/miniforge3/envs/pymc/lib/python3.11/site-packages/matplotlib/backends/backend_pdf.py:1273\u001b[0m, in \u001b[0;36mPdfFile.embedTTF.<locals>.embedTTFType42\u001b[0;34m(font, characters, descriptor)\u001b[0m\n\u001b[1;32m   1271\u001b[0m subset_str \u001b[38;5;241m=\u001b[39m \u001b[38;5;124m\"\u001b[39m\u001b[38;5;124m\"\u001b[39m\u001b[38;5;241m.\u001b[39mjoin(\u001b[38;5;28mchr\u001b[39m(c) \u001b[38;5;28;01mfor\u001b[39;00m c \u001b[38;5;129;01min\u001b[39;00m characters)\n\u001b[1;32m   1272\u001b[0m _log\u001b[38;5;241m.\u001b[39mdebug(\u001b[38;5;124m\"\u001b[39m\u001b[38;5;124mSUBSET \u001b[39m\u001b[38;5;132;01m%s\u001b[39;00m\u001b[38;5;124m characters: \u001b[39m\u001b[38;5;132;01m%s\u001b[39;00m\u001b[38;5;124m\"\u001b[39m, filename, subset_str)\n\u001b[0;32m-> 1273\u001b[0m fontdata \u001b[38;5;241m=\u001b[39m \u001b[43m_backend_pdf_ps\u001b[49m\u001b[38;5;241;43m.\u001b[39;49m\u001b[43mget_glyphs_subset\u001b[49m\u001b[43m(\u001b[49m\u001b[43mfilename\u001b[49m\u001b[43m,\u001b[49m\u001b[43m \u001b[49m\u001b[43msubset_str\u001b[49m\u001b[43m)\u001b[49m\n\u001b[1;32m   1274\u001b[0m _log\u001b[38;5;241m.\u001b[39mdebug(\n\u001b[1;32m   1275\u001b[0m     \u001b[38;5;124m\"\u001b[39m\u001b[38;5;124mSUBSET \u001b[39m\u001b[38;5;132;01m%s\u001b[39;00m\u001b[38;5;124m \u001b[39m\u001b[38;5;132;01m%d\u001b[39;00m\u001b[38;5;124m -> \u001b[39m\u001b[38;5;132;01m%d\u001b[39;00m\u001b[38;5;124m\"\u001b[39m, filename,\n\u001b[1;32m   1276\u001b[0m     os\u001b[38;5;241m.\u001b[39mstat(filename)\u001b[38;5;241m.\u001b[39mst_size, fontdata\u001b[38;5;241m.\u001b[39mgetbuffer()\u001b[38;5;241m.\u001b[39mnbytes\n\u001b[1;32m   1277\u001b[0m )\n\u001b[1;32m   1279\u001b[0m \u001b[38;5;66;03m# We need this ref for XObjects\u001b[39;00m\n",
      "File \u001b[0;32m~/miniforge3/envs/pymc/lib/python3.11/site-packages/matplotlib/backends/_backend_pdf_ps.py:54\u001b[0m, in \u001b[0;36mget_glyphs_subset\u001b[0;34m(fontfile, characters)\u001b[0m\n\u001b[1;32m     52\u001b[0m subsetter \u001b[38;5;241m=\u001b[39m subset\u001b[38;5;241m.\u001b[39mSubsetter(options\u001b[38;5;241m=\u001b[39moptions)\n\u001b[1;32m     53\u001b[0m subsetter\u001b[38;5;241m.\u001b[39mpopulate(text\u001b[38;5;241m=\u001b[39mcharacters)\n\u001b[0;32m---> 54\u001b[0m \u001b[43msubsetter\u001b[49m\u001b[38;5;241;43m.\u001b[39;49m\u001b[43msubset\u001b[49m\u001b[43m(\u001b[49m\u001b[43mfont\u001b[49m\u001b[43m)\u001b[49m\n\u001b[1;32m     55\u001b[0m fh \u001b[38;5;241m=\u001b[39m BytesIO()\n\u001b[1;32m     56\u001b[0m font\u001b[38;5;241m.\u001b[39msave(fh, reorderTables\u001b[38;5;241m=\u001b[39m\u001b[38;5;28;01mFalse\u001b[39;00m)\n",
      "File \u001b[0;32m~/miniforge3/envs/pymc/lib/python3.11/site-packages/fontTools/subset/__init__.py:3483\u001b[0m, in \u001b[0;36mSubsetter.subset\u001b[0;34m(self, font)\u001b[0m\n\u001b[1;32m   3481\u001b[0m \u001b[38;5;28mself\u001b[39m\u001b[38;5;241m.\u001b[39m_prune_pre_subset(font)\n\u001b[1;32m   3482\u001b[0m \u001b[38;5;28mself\u001b[39m\u001b[38;5;241m.\u001b[39m_closure_glyphs(font)\n\u001b[0;32m-> 3483\u001b[0m \u001b[38;5;28;43mself\u001b[39;49m\u001b[38;5;241;43m.\u001b[39;49m\u001b[43m_subset_glyphs\u001b[49m\u001b[43m(\u001b[49m\u001b[43mfont\u001b[49m\u001b[43m)\u001b[49m\n\u001b[1;32m   3484\u001b[0m \u001b[38;5;28mself\u001b[39m\u001b[38;5;241m.\u001b[39m_prune_post_subset(font)\n",
      "File \u001b[0;32m~/miniforge3/envs/pymc/lib/python3.11/site-packages/fontTools/subset/__init__.py:3418\u001b[0m, in \u001b[0;36mSubsetter._subset_glyphs\u001b[0;34m(self, font)\u001b[0m\n\u001b[1;32m   3416\u001b[0m     table \u001b[38;5;241m=\u001b[39m font[tag]\n\u001b[1;32m   3417\u001b[0m     \u001b[38;5;28mself\u001b[39m\u001b[38;5;241m.\u001b[39mglyphs \u001b[38;5;241m=\u001b[39m \u001b[38;5;28mself\u001b[39m\u001b[38;5;241m.\u001b[39mglyphs_retained\n\u001b[0;32m-> 3418\u001b[0m     retain \u001b[38;5;241m=\u001b[39m \u001b[43mtable\u001b[49m\u001b[38;5;241;43m.\u001b[39;49m\u001b[43msubset_glyphs\u001b[49m\u001b[43m(\u001b[49m\u001b[38;5;28;43mself\u001b[39;49m\u001b[43m)\u001b[49m\n\u001b[1;32m   3419\u001b[0m     \u001b[38;5;28;01mdel\u001b[39;00m \u001b[38;5;28mself\u001b[39m\u001b[38;5;241m.\u001b[39mglyphs\n\u001b[1;32m   3420\u001b[0m \u001b[38;5;28;01mif\u001b[39;00m \u001b[38;5;129;01mnot\u001b[39;00m retain:\n",
      "File \u001b[0;32m~/miniforge3/envs/pymc/lib/python3.11/site-packages/fontTools/subset/__init__.py:1859\u001b[0m, in \u001b[0;36msubset_glyphs\u001b[0;34m(self, s)\u001b[0m\n\u001b[1;32m   1857\u001b[0m s\u001b[38;5;241m.\u001b[39mglyphs \u001b[38;5;241m=\u001b[39m s\u001b[38;5;241m.\u001b[39mglyphs_gsubed\n\u001b[1;32m   1858\u001b[0m \u001b[38;5;28;01mif\u001b[39;00m \u001b[38;5;28mself\u001b[39m\u001b[38;5;241m.\u001b[39mtable\u001b[38;5;241m.\u001b[39mLookupList:\n\u001b[0;32m-> 1859\u001b[0m     lookup_indices \u001b[38;5;241m=\u001b[39m \u001b[38;5;28;43mself\u001b[39;49m\u001b[38;5;241;43m.\u001b[39;49m\u001b[43mtable\u001b[49m\u001b[38;5;241;43m.\u001b[39;49m\u001b[43mLookupList\u001b[49m\u001b[38;5;241;43m.\u001b[39;49m\u001b[43msubset_glyphs\u001b[49m\u001b[43m(\u001b[49m\u001b[43ms\u001b[49m\u001b[43m)\u001b[49m\n\u001b[1;32m   1860\u001b[0m \u001b[38;5;28;01melse\u001b[39;00m:\n\u001b[1;32m   1861\u001b[0m     lookup_indices \u001b[38;5;241m=\u001b[39m []\n",
      "File \u001b[0;32m~/miniforge3/envs/pymc/lib/python3.11/site-packages/fontTools/subset/__init__.py:1560\u001b[0m, in \u001b[0;36msubset_glyphs\u001b[0;34m(self, s)\u001b[0m\n\u001b[1;32m   1557\u001b[0m \u001b[38;5;129m@_add_method\u001b[39m(otTables\u001b[38;5;241m.\u001b[39mLookupList)\n\u001b[1;32m   1558\u001b[0m \u001b[38;5;28;01mdef\u001b[39;00m \u001b[38;5;21msubset_glyphs\u001b[39m(\u001b[38;5;28mself\u001b[39m, s):\n\u001b[1;32m   1559\u001b[0m \u001b[38;5;250m    \u001b[39m\u001b[38;5;124;03m\"\"\"Returns the indices of nonempty lookups.\"\"\"\u001b[39;00m\n\u001b[0;32m-> 1560\u001b[0m     \u001b[38;5;28;01mreturn\u001b[39;00m \u001b[43m[\u001b[49m\u001b[43mi\u001b[49m\u001b[43m \u001b[49m\u001b[38;5;28;43;01mfor\u001b[39;49;00m\u001b[43m \u001b[49m\u001b[43mi\u001b[49m\u001b[43m,\u001b[49m\u001b[43m \u001b[49m\u001b[43ml\u001b[49m\u001b[43m \u001b[49m\u001b[38;5;129;43;01min\u001b[39;49;00m\u001b[43m \u001b[49m\u001b[38;5;28;43menumerate\u001b[39;49m\u001b[43m(\u001b[49m\u001b[38;5;28;43mself\u001b[39;49m\u001b[38;5;241;43m.\u001b[39;49m\u001b[43mLookup\u001b[49m\u001b[43m)\u001b[49m\u001b[43m \u001b[49m\u001b[38;5;28;43;01mif\u001b[39;49;00m\u001b[43m \u001b[49m\u001b[43ml\u001b[49m\u001b[43m \u001b[49m\u001b[38;5;129;43;01mand\u001b[39;49;00m\u001b[43m \u001b[49m\u001b[43ml\u001b[49m\u001b[38;5;241;43m.\u001b[39;49m\u001b[43msubset_glyphs\u001b[49m\u001b[43m(\u001b[49m\u001b[43ms\u001b[49m\u001b[43m)\u001b[49m\u001b[43m]\u001b[49m\n",
      "File \u001b[0;32m~/miniforge3/envs/pymc/lib/python3.11/site-packages/fontTools/subset/__init__.py:1560\u001b[0m, in \u001b[0;36m<listcomp>\u001b[0;34m(.0)\u001b[0m\n\u001b[1;32m   1557\u001b[0m \u001b[38;5;129m@_add_method\u001b[39m(otTables\u001b[38;5;241m.\u001b[39mLookupList)\n\u001b[1;32m   1558\u001b[0m \u001b[38;5;28;01mdef\u001b[39;00m \u001b[38;5;21msubset_glyphs\u001b[39m(\u001b[38;5;28mself\u001b[39m, s):\n\u001b[1;32m   1559\u001b[0m \u001b[38;5;250m    \u001b[39m\u001b[38;5;124;03m\"\"\"Returns the indices of nonempty lookups.\"\"\"\u001b[39;00m\n\u001b[0;32m-> 1560\u001b[0m     \u001b[38;5;28;01mreturn\u001b[39;00m [i \u001b[38;5;28;01mfor\u001b[39;00m i, l \u001b[38;5;129;01min\u001b[39;00m \u001b[38;5;28menumerate\u001b[39m(\u001b[38;5;28mself\u001b[39m\u001b[38;5;241m.\u001b[39mLookup) \u001b[38;5;28;01mif\u001b[39;00m l \u001b[38;5;129;01mand\u001b[39;00m \u001b[43ml\u001b[49m\u001b[38;5;241;43m.\u001b[39;49m\u001b[43msubset_glyphs\u001b[49m\u001b[43m(\u001b[49m\u001b[43ms\u001b[49m\u001b[43m)\u001b[49m]\n",
      "File \u001b[0;32m~/miniforge3/envs/pymc/lib/python3.11/site-packages/fontTools/subset/__init__.py:1519\u001b[0m, in \u001b[0;36msubset_glyphs\u001b[0;34m(self, s)\u001b[0m\n\u001b[1;32m   1517\u001b[0m \u001b[38;5;129m@_add_method\u001b[39m(otTables\u001b[38;5;241m.\u001b[39mLookup)\n\u001b[1;32m   1518\u001b[0m \u001b[38;5;28;01mdef\u001b[39;00m \u001b[38;5;21msubset_glyphs\u001b[39m(\u001b[38;5;28mself\u001b[39m, s):\n\u001b[0;32m-> 1519\u001b[0m     \u001b[38;5;28mself\u001b[39m\u001b[38;5;241m.\u001b[39mSubTable \u001b[38;5;241m=\u001b[39m \u001b[43m[\u001b[49m\u001b[43mst\u001b[49m\u001b[43m \u001b[49m\u001b[38;5;28;43;01mfor\u001b[39;49;00m\u001b[43m \u001b[49m\u001b[43mst\u001b[49m\u001b[43m \u001b[49m\u001b[38;5;129;43;01min\u001b[39;49;00m\u001b[43m \u001b[49m\u001b[38;5;28;43mself\u001b[39;49m\u001b[38;5;241;43m.\u001b[39;49m\u001b[43mSubTable\u001b[49m\u001b[43m \u001b[49m\u001b[38;5;28;43;01mif\u001b[39;49;00m\u001b[43m \u001b[49m\u001b[43mst\u001b[49m\u001b[43m \u001b[49m\u001b[38;5;129;43;01mand\u001b[39;49;00m\u001b[43m \u001b[49m\u001b[43mst\u001b[49m\u001b[38;5;241;43m.\u001b[39;49m\u001b[43msubset_glyphs\u001b[49m\u001b[43m(\u001b[49m\u001b[43ms\u001b[49m\u001b[43m)\u001b[49m\u001b[43m]\u001b[49m\n\u001b[1;32m   1520\u001b[0m     \u001b[38;5;28mself\u001b[39m\u001b[38;5;241m.\u001b[39mSubTableCount \u001b[38;5;241m=\u001b[39m \u001b[38;5;28mlen\u001b[39m(\u001b[38;5;28mself\u001b[39m\u001b[38;5;241m.\u001b[39mSubTable)\n\u001b[1;32m   1521\u001b[0m     \u001b[38;5;28;01mif\u001b[39;00m \u001b[38;5;28mhasattr\u001b[39m(\u001b[38;5;28mself\u001b[39m, \u001b[38;5;124m\"\u001b[39m\u001b[38;5;124mMarkFilteringSet\u001b[39m\u001b[38;5;124m\"\u001b[39m) \u001b[38;5;129;01mand\u001b[39;00m \u001b[38;5;28mself\u001b[39m\u001b[38;5;241m.\u001b[39mMarkFilteringSet \u001b[38;5;129;01mis\u001b[39;00m \u001b[38;5;129;01mnot\u001b[39;00m \u001b[38;5;28;01mNone\u001b[39;00m:\n",
      "File \u001b[0;32m~/miniforge3/envs/pymc/lib/python3.11/site-packages/fontTools/subset/__init__.py:1519\u001b[0m, in \u001b[0;36m<listcomp>\u001b[0;34m(.0)\u001b[0m\n\u001b[1;32m   1517\u001b[0m \u001b[38;5;129m@_add_method\u001b[39m(otTables\u001b[38;5;241m.\u001b[39mLookup)\n\u001b[1;32m   1518\u001b[0m \u001b[38;5;28;01mdef\u001b[39;00m \u001b[38;5;21msubset_glyphs\u001b[39m(\u001b[38;5;28mself\u001b[39m, s):\n\u001b[0;32m-> 1519\u001b[0m     \u001b[38;5;28mself\u001b[39m\u001b[38;5;241m.\u001b[39mSubTable \u001b[38;5;241m=\u001b[39m [st \u001b[38;5;28;01mfor\u001b[39;00m st \u001b[38;5;129;01min\u001b[39;00m \u001b[38;5;28mself\u001b[39m\u001b[38;5;241m.\u001b[39mSubTable \u001b[38;5;28;01mif\u001b[39;00m st \u001b[38;5;129;01mand\u001b[39;00m \u001b[43mst\u001b[49m\u001b[38;5;241;43m.\u001b[39;49m\u001b[43msubset_glyphs\u001b[49m\u001b[43m(\u001b[49m\u001b[43ms\u001b[49m\u001b[43m)\u001b[49m]\n\u001b[1;32m   1520\u001b[0m     \u001b[38;5;28mself\u001b[39m\u001b[38;5;241m.\u001b[39mSubTableCount \u001b[38;5;241m=\u001b[39m \u001b[38;5;28mlen\u001b[39m(\u001b[38;5;28mself\u001b[39m\u001b[38;5;241m.\u001b[39mSubTable)\n\u001b[1;32m   1521\u001b[0m     \u001b[38;5;28;01mif\u001b[39;00m \u001b[38;5;28mhasattr\u001b[39m(\u001b[38;5;28mself\u001b[39m, \u001b[38;5;124m\"\u001b[39m\u001b[38;5;124mMarkFilteringSet\u001b[39m\u001b[38;5;124m\"\u001b[39m) \u001b[38;5;129;01mand\u001b[39;00m \u001b[38;5;28mself\u001b[39m\u001b[38;5;241m.\u001b[39mMarkFilteringSet \u001b[38;5;129;01mis\u001b[39;00m \u001b[38;5;129;01mnot\u001b[39;00m \u001b[38;5;28;01mNone\u001b[39;00m:\n",
      "File \u001b[0;32m~/miniforge3/envs/pymc/lib/python3.11/site-packages/fontTools/subset/__init__.py:828\u001b[0m, in \u001b[0;36msubset_glyphs\u001b[0;34m(self, s)\u001b[0m\n\u001b[1;32m    826\u001b[0m \u001b[38;5;28mself\u001b[39m\u001b[38;5;241m.\u001b[39mBaseArray\u001b[38;5;241m.\u001b[39mBaseCount \u001b[38;5;241m=\u001b[39m \u001b[38;5;28mlen\u001b[39m(\u001b[38;5;28mself\u001b[39m\u001b[38;5;241m.\u001b[39mBaseArray\u001b[38;5;241m.\u001b[39mBaseRecord)\n\u001b[1;32m    827\u001b[0m \u001b[38;5;66;03m# Prune empty classes\u001b[39;00m\n\u001b[0;32m--> 828\u001b[0m class_indices \u001b[38;5;241m=\u001b[39m \u001b[43m_uniq_sort\u001b[49m\u001b[43m(\u001b[49m\u001b[43mv\u001b[49m\u001b[38;5;241;43m.\u001b[39;49m\u001b[43mClass\u001b[49m\u001b[43m \u001b[49m\u001b[38;5;28;43;01mfor\u001b[39;49;00m\u001b[43m \u001b[49m\u001b[43mv\u001b[49m\u001b[43m \u001b[49m\u001b[38;5;129;43;01min\u001b[39;49;00m\u001b[43m \u001b[49m\u001b[38;5;28;43mself\u001b[39;49m\u001b[38;5;241;43m.\u001b[39;49m\u001b[43mMarkArray\u001b[49m\u001b[38;5;241;43m.\u001b[39;49m\u001b[43mMarkRecord\u001b[49m\u001b[43m)\u001b[49m\n\u001b[1;32m    829\u001b[0m \u001b[38;5;28mself\u001b[39m\u001b[38;5;241m.\u001b[39mClassCount \u001b[38;5;241m=\u001b[39m \u001b[38;5;28mlen\u001b[39m(class_indices)\n\u001b[1;32m    830\u001b[0m \u001b[38;5;28;01mfor\u001b[39;00m m \u001b[38;5;129;01min\u001b[39;00m \u001b[38;5;28mself\u001b[39m\u001b[38;5;241m.\u001b[39mMarkArray\u001b[38;5;241m.\u001b[39mMarkRecord:\n",
      "File \u001b[0;32m~/miniforge3/envs/pymc/lib/python3.11/site-packages/fontTools/subset/util.py:24\u001b[0m, in \u001b[0;36m_uniq_sort\u001b[0;34m(l)\u001b[0m\n\u001b[1;32m     19\u001b[0m         \u001b[38;5;28;01mreturn\u001b[39;00m \u001b[38;5;28;01mNone\u001b[39;00m\n\u001b[1;32m     21\u001b[0m     \u001b[38;5;28;01mreturn\u001b[39;00m wrapper\n\u001b[0;32m---> 24\u001b[0m \u001b[38;5;28;01mdef\u001b[39;00m \u001b[38;5;21m_uniq_sort\u001b[39m(l):\n\u001b[1;32m     25\u001b[0m     \u001b[38;5;28;01mreturn\u001b[39;00m \u001b[38;5;28msorted\u001b[39m(\u001b[38;5;28mset\u001b[39m(l))\n",
      "\u001b[0;31mKeyboardInterrupt\u001b[0m: "
     ]
    },
    {
     "data": {
      "image/png": "[encoded data removed]",
      "text/plain": [
       "<Figure size 1200x1200 with 1 Axes>"
      ]
     },
     "metadata": {},
     "output_type": "display_data"
    },
    {
     "data": {
      "image/png": "[encoded data removed]",
      "text/plain": [
       "<Figure size 1200x1200 with 1 Axes>"
      ]
     },
     "metadata": {},
     "output_type": "display_data"
    },
    {
     "data": {
      "image/png": "[encoded data removed]",
      "text/plain": [
       "<Figure size 1200x1200 with 1 Axes>"
      ]
     },
     "metadata": {},
     "output_type": "display_data"
    },
    {
     "data": {
      "image/png": "[encoded data removed]",
      "text/plain": [
       "<Figure size 1200x1200 with 1 Axes>"
      ]
     },
     "metadata": {},
     "output_type": "display_data"
    },
    {
     "data": {
      "image/png": "[encoded data removed]",
      "text/plain": [
       "<Figure size 1200x1200 with 1 Axes>"
      ]
     },
     "metadata": {},
     "output_type": "display_data"
    }
   ],
   "source": [
    "skip_idxs = []\n",
    "for idx, model_name, post in zip(range(len(model_names)), model_names, posterior_samples):\n",
    "    if idx in skip_idxs:\n",
    "        print('skipping', model_name)\n",
    "        continue\n",
    "    else:\n",
    "        print('plotting', model_name)\n",
    "        plot_posterior_trajectories(post, data, data_std, times, colors[idx], \n",
    "                                        inputs, '../../../results/MAPK/param_est/HF96_traj_synthetic_data/'+model_name+'/', model_name, data_time_to_mins=60,\n",
    "                                        width=1.1, height=0.5, data_downsample=10,\n",
    "                                        ylim=[[0.0, 1.2], [0.0, 1.2], [0.0, 1.2]],\n",
    "                                        y_ticks=[[0.0, 1.0], [0.0, 1.0], [0.0, 1.0]])\n",
    "plt.close('all')"
   ]
  },
  {
   "cell_type": "markdown",
   "metadata": {},
   "source": [
    "## We also need to plot and analyze trajectories that are not posterior predictive, but simply use posterior samples to compute them"
   ]
  },
  {
   "cell_type": "code",
   "execution_count": 25,
   "metadata": {},
   "outputs": [
    {
     "name": "stdout",
     "output_type": "stream",
     "text": [
      "plotting kholodenko_2000\n"
     ]
    },
    {
     "name": "stderr",
     "output_type": "stream",
     "text": [
      "100%|██████████| 400/400 [00:03<00:00, 119.60it/s]\n"
     ]
    },
    {
     "name": "stdout",
     "output_type": "stream",
     "text": [
      "plotting levchenko_2000\n"
     ]
    },
    {
     "name": "stderr",
     "output_type": "stream",
     "text": [
      "100%|██████████| 400/400 [00:09<00:00, 43.95it/s] \n"
     ]
    },
    {
     "name": "stdout",
     "output_type": "stream",
     "text": [
      "plotting hatakeyama_2003\n"
     ]
    },
    {
     "name": "stderr",
     "output_type": "stream",
     "text": [
      "100%|██████████| 400/400 [00:31<00:00, 12.57it/s]\n"
     ]
    },
    {
     "name": "stdout",
     "output_type": "stream",
     "text": [
      "plotting hornberg_2005\n"
     ]
    },
    {
     "name": "stderr",
     "output_type": "stream",
     "text": [
      "100%|██████████| 400/400 [12:43<00:00,  1.91s/it]\n"
     ]
    },
    {
     "name": "stdout",
     "output_type": "stream",
     "text": [
      "plotting birtwistle_2007\n"
     ]
    },
    {
     "name": "stderr",
     "output_type": "stream",
     "text": [
      "100%|██████████| 400/400 [07:01<00:00,  1.05s/it]\n"
     ]
    },
    {
     "name": "stdout",
     "output_type": "stream",
     "text": [
      "plotting orton_2009\n"
     ]
    },
    {
     "name": "stderr",
     "output_type": "stream",
     "text": [
      "100%|██████████| 400/400 [00:15<00:00, 26.31it/s]\n"
     ]
    },
    {
     "name": "stdout",
     "output_type": "stream",
     "text": [
      "plotting vonKriegsheim_2009\n"
     ]
    },
    {
     "name": "stderr",
     "output_type": "stream",
     "text": [
      "100%|██████████| 400/400 [00:17<00:00, 23.31it/s]\n",
      "/Users/natetest/Library/CloudStorage/Dropbox/Mac (2)/Documents/phd/research/multimodel-inference/src/MAPK/param_est/../plotting_helper_funcs.py:11: RuntimeWarning: More than 20 figures have been opened. Figures created through the pyplot interface (`matplotlib.pyplot.figure`) are retained until explicitly closed and may consume too much memory. (To control this warning, see the rcParam `figure.max_open_warning`). Consider using `matplotlib.pyplot.close()`.\n",
      "  fig = plt.figure(figsize=(fig_width, fig_height))\n"
     ]
    },
    {
     "name": "stdout",
     "output_type": "stream",
     "text": [
      "plotting shin_2014\n"
     ]
    },
    {
     "name": "stderr",
     "output_type": "stream",
     "text": [
      "100%|██████████| 400/400 [00:00<00:00, 1096.81it/s]\n"
     ]
    },
    {
     "name": "stdout",
     "output_type": "stream",
     "text": [
      "plotting ryu_2015\n"
     ]
    },
    {
     "name": "stderr",
     "output_type": "stream",
     "text": [
      "100%|██████████| 400/400 [00:06<00:00, 61.74it/s] \n"
     ]
    },
    {
     "name": "stdout",
     "output_type": "stream",
     "text": [
      "plotting kochanczyk_2017\n"
     ]
    },
    {
     "name": "stderr",
     "output_type": "stream",
     "text": [
      "100%|██████████| 400/400 [00:10<00:00, 39.24it/s] \n"
     ]
    }
   ],
   "source": [
    "model_info = json.load(open('model_info.json', 'r'))\n",
    "\n",
    "plotting_params = {\n",
    "    'kholodenko_2000':[False,False,True,True],'levchenko_2000':[False,False,False,False],'hatakeyama_2003':[False,False,False,False],'hornberg_2005':[False,False,False,False],'birtwistle_2007':[False,False,False,False],'orton_2009':[True,True,True,True],'vonKriegsheim_2009':[True,True,False,False],'shin_2014':[True,True,False,False],'ryu_2015':[True,True,False,False],'kochanczyk_2017':[True,True,False,False]\n",
    "}\n",
    "\n",
    "n_traj = 400\n",
    "\n",
    "skip_idxs = []\n",
    "for idx,model in enumerate(model_info.keys()):\n",
    "    if idx in skip_idxs:\n",
    "        print('skipping', model)\n",
    "        continue\n",
    "    else:\n",
    "        print('plotting', model)\n",
    "        this_model_info = model_info[model]\n",
    "\n",
    "        plot_p = plotting_params[model]\n",
    "\n",
    "     \n",
    "        # predict trajectories\n",
    "        traj = predict_traj_response(model, idata[idx], inputs, times, \n",
    "                                              this_model_info['input_state'], this_model_info['ERK_states'],\n",
    "                                              float(this_model_info['time_conversion']),\n",
    "                                              EGF_conversion_factor=float(this_model_info['EGF_conversion_factor']),\n",
    "                                              nsamples=400)\n",
    "        # save\n",
    "        np.save('../../../results/MAPK/param_est/HF96_traj_synthetic_data/'+model+'/traj_predict.npy', traj)\n",
    "\n",
    "        # plot\n",
    "        plot_posterior_trajectories(traj, data, data_std, times, colors[idx], \n",
    "                                        inputs, '../../../results/MAPK/param_est/HF96_traj_synthetic_data/'+model+'/',\n",
    "                                        model, data_time_to_mins=60,\n",
    "                                        width=1.1, height=0.5, \n",
    "                                        data_downsample=10,\n",
    "                                        ylim=[[0.0, 1.2], [0.0, 1.2], [0.0, 1.2]],\n",
    "                                        y_ticks=[[0.0, 1.0], [0.0, 1.0], [0.0, 1.0]],\n",
    "                                        fname='_pred_traj_')\n",
    "plt.close('all')"
   ]
  },
  {
   "cell_type": "markdown",
   "metadata": {},
   "source": [
    "## Now we want to use posterior draws to simulate dose-response curve predictions"
   ]
  },
  {
   "cell_type": "code",
   "execution_count": 83,
   "metadata": {},
   "outputs": [
    {
     "name": "stdout",
     "output_type": "stream",
     "text": [
      "skipping kholodenko_2000\n",
      "skipping levchenko_2000\n",
      "skipping hatakeyama_2003\n",
      "skipping hornberg_2005\n",
      "skipping birtwistle_2007\n",
      "skipping orton_2009\n",
      "plotting vonKriegsheim_2009\n"
     ]
    },
    {
     "name": "stderr",
     "output_type": "stream",
     "text": [
      "54it [00:27,  2.93s/it]"
     ]
    },
    {
     "name": "stdout",
     "output_type": "stream",
     "text": [
      "Function timed out. Skipping this sample. The params are [1.95000000e-04 6.85020315e-02 1.40000000e-03 1.16458092e-03\n",
      " 9.10417443e-05 3.99300000e-01 4.66262558e-01 6.33203292e-01\n",
      " 9.57499370e-02 1.40495479e+00 1.35661433e+00 9.63126650e-02\n",
      " 1.22814202e-02 9.87950000e+00 1.75610000e+00 1.20000000e-03\n",
      " 4.81180000e+00 5.03600000e-01 1.37360000e+00 8.44500000e-01\n",
      " 3.48400000e-01 1.00000000e-01 0.00000000e+00 3.71000000e-02\n",
      " 8.58125717e-02 1.00000000e+00 8.42200312e-02 8.89210124e-02\n",
      " 2.45358409e-01 6.31404411e-04 1.49390000e+00 1.18019879e+00\n",
      " 1.00000000e-01 5.98486023e-04 1.33010000e+00 5.13000000e-02\n",
      " 4.22876999e-01 9.78100000e-01 1.00000000e-03 1.07977734e-01\n",
      " 3.58677778e-03 6.44138174e-02 1.00000000e-01 5.00000000e+00\n",
      " 1.00000000e+00 1.00000000e+00 7.90345221e-01 2.52620236e-01\n",
      " 1.00000000e-03 3.66200000e-01 2.78000000e+00 1.30000000e-03\n",
      " 9.97900000e-01 5.00000000e-03 8.80000000e-03 2.30000000e-03\n",
      " 2.00000000e+00 9.98000000e-01 6.62100000e-01 1.82000000e-01\n",
      " 9.78540000e+00 9.03400000e-01 8.96300000e-01 7.44260000e+00\n",
      " 3.54100000e-01 2.35990000e+00 3.85360000e+00 3.18327355e-05\n",
      " 0.00000000e+00 3.00000000e+00 2.89600000e-01 3.00000000e+00\n",
      " 2.00000000e-01 2.12000000e-13 9.38000000e-13 0.00000000e+00\n",
      " 0.00000000e+00]\n"
     ]
    },
    {
     "name": "stderr",
     "output_type": "stream",
     "text": [
      "97it [00:54,  4.91s/it]"
     ]
    },
    {
     "name": "stdout",
     "output_type": "stream",
     "text": [
      "Function timed out. Skipping this sample. The params are [1.95000000e-04 3.20660327e-02 1.40000000e-03 3.58606953e-04\n",
      " 1.95335369e-04 3.99300000e-01 2.85577317e-02 6.33203292e-01\n",
      " 9.57499370e-02 1.92909159e-01 1.35661433e+00 9.63126650e-02\n",
      " 5.45574839e-03 9.87950000e+00 1.75610000e+00 1.20000000e-03\n",
      " 4.81180000e+00 5.03600000e-01 1.37360000e+00 8.44500000e-01\n",
      " 3.48400000e-01 1.00000000e-01 0.00000000e+00 3.71000000e-02\n",
      " 3.02253556e-02 1.00000000e+00 6.38082010e-02 6.01495994e-02\n",
      " 1.78721253e-01 1.65633040e-03 1.49390000e+00 6.29305550e-01\n",
      " 1.00000000e-01 6.12802383e-03 1.33010000e+00 5.13000000e-02\n",
      " 1.09242863e+00 9.78100000e-01 1.00000000e-03 2.40127075e-01\n",
      " 8.82842094e-02 6.05435536e-02 1.00000000e-01 5.00000000e+00\n",
      " 1.00000000e+00 1.00000000e+00 7.90345221e-01 2.52620236e-01\n",
      " 1.00000000e-03 3.66200000e-01 2.78000000e+00 1.30000000e-03\n",
      " 9.97900000e-01 5.00000000e-03 8.80000000e-03 2.30000000e-03\n",
      " 2.00000000e+00 9.98000000e-01 6.62100000e-01 1.82000000e-01\n",
      " 9.78540000e+00 9.03400000e-01 8.96300000e-01 7.44260000e+00\n",
      " 3.54100000e-01 2.35990000e+00 3.85360000e+00 2.16908611e-05\n",
      " 0.00000000e+00 3.00000000e+00 2.89600000e-01 3.00000000e+00\n",
      " 2.00000000e-01 2.12000000e-13 9.38000000e-13 0.00000000e+00\n",
      " 0.00000000e+00]\n"
     ]
    },
    {
     "name": "stderr",
     "output_type": "stream",
     "text": [
      "141it [01:20,  3.15s/it]"
     ]
    },
    {
     "name": "stdout",
     "output_type": "stream",
     "text": [
      "Function timed out. Skipping this sample. The params are [1.95000000e-04 4.52208853e-02 1.40000000e-03 1.41540714e-03\n",
      " 1.64058453e-04 3.99300000e-01 1.92628323e-01 6.33203292e-01\n",
      " 9.57499370e-02 1.99006212e-01 1.35661433e+00 9.63126650e-02\n",
      " 1.25753557e-01 9.87950000e+00 1.75610000e+00 1.20000000e-03\n",
      " 4.81180000e+00 5.03600000e-01 1.37360000e+00 8.44500000e-01\n",
      " 3.48400000e-01 1.00000000e-01 0.00000000e+00 3.71000000e-02\n",
      " 1.61231162e-02 1.00000000e+00 5.23735136e-01 3.95638181e-01\n",
      " 2.11507659e-02 2.92178537e-04 1.49390000e+00 1.22884296e-02\n",
      " 1.00000000e-01 8.29351920e-02 1.33010000e+00 5.13000000e-02\n",
      " 4.89905341e+00 9.78100000e-01 1.00000000e-03 1.77564508e-01\n",
      " 8.58346163e-05 8.10479955e-02 1.00000000e-01 5.00000000e+00\n",
      " 1.00000000e+00 1.00000000e+00 7.90345221e-01 2.52620236e-01\n",
      " 1.00000000e-03 3.66200000e-01 2.78000000e+00 1.30000000e-03\n",
      " 9.97900000e-01 5.00000000e-03 8.80000000e-03 2.30000000e-03\n",
      " 2.00000000e+00 9.98000000e-01 6.62100000e-01 1.82000000e-01\n",
      " 9.78540000e+00 9.03400000e-01 8.96300000e-01 7.44260000e+00\n",
      " 3.54100000e-01 2.35990000e+00 3.85360000e+00 1.08189247e-05\n",
      " 0.00000000e+00 3.00000000e+00 2.89600000e-01 3.00000000e+00\n",
      " 2.00000000e-01 2.12000000e-13 9.38000000e-13 0.00000000e+00\n",
      " 0.00000000e+00]\n"
     ]
    },
    {
     "name": "stderr",
     "output_type": "stream",
     "text": [
      "221it [01:53,  3.92s/it]"
     ]
    },
    {
     "name": "stdout",
     "output_type": "stream",
     "text": [
      "Function timed out. Skipping this sample. The params are [1.95000000e-04 2.75519911e-02 1.40000000e-03 8.48841295e-04\n",
      " 1.96116050e-03 3.99300000e-01 1.76315732e-01 6.33203292e-01\n",
      " 9.57499370e-02 1.62021459e+00 1.35661433e+00 9.63126650e-02\n",
      " 4.07726872e-03 9.87950000e+00 1.75610000e+00 1.20000000e-03\n",
      " 4.81180000e+00 5.03600000e-01 1.37360000e+00 8.44500000e-01\n",
      " 3.48400000e-01 1.00000000e-01 0.00000000e+00 3.71000000e-02\n",
      " 1.82234830e-02 1.00000000e+00 1.10375990e-01 1.08585313e-01\n",
      " 1.01019773e-01 4.70334142e-04 1.49390000e+00 1.54946081e-01\n",
      " 1.00000000e-01 7.42556315e-03 1.33010000e+00 5.13000000e-02\n",
      " 2.05201969e+00 9.78100000e-01 1.00000000e-03 3.52898710e-02\n",
      " 2.76142178e-02 2.11227229e-01 1.00000000e-01 5.00000000e+00\n",
      " 1.00000000e+00 1.00000000e+00 7.90345221e-01 2.52620236e-01\n",
      " 1.00000000e-03 3.66200000e-01 2.78000000e+00 1.30000000e-03\n",
      " 9.97900000e-01 5.00000000e-03 8.80000000e-03 2.30000000e-03\n",
      " 2.00000000e+00 9.98000000e-01 6.62100000e-01 1.82000000e-01\n",
      " 9.78540000e+00 9.03400000e-01 8.96300000e-01 7.44260000e+00\n",
      " 3.54100000e-01 2.35990000e+00 3.85360000e+00 7.04955070e-06\n",
      " 0.00000000e+00 3.00000000e+00 2.89600000e-01 3.00000000e+00\n",
      " 2.00000000e-01 2.12000000e-13 9.38000000e-13 0.00000000e+00\n",
      " 0.00000000e+00]\n"
     ]
    },
    {
     "name": "stderr",
     "output_type": "stream",
     "text": [
      "235it [02:16,  4.38s/it]"
     ]
    },
    {
     "name": "stdout",
     "output_type": "stream",
     "text": [
      "Function timed out. Skipping this sample. The params are [1.95000000e-04 1.05081703e-02 1.40000000e-03 3.74858306e-03\n",
      " 1.88328295e-04 3.99300000e-01 9.90131957e-02 6.33203292e-01\n",
      " 9.57499370e-02 4.10720583e-02 1.35661433e+00 9.63126650e-02\n",
      " 7.76194500e-02 9.87950000e+00 1.75610000e+00 1.20000000e-03\n",
      " 4.81180000e+00 5.03600000e-01 1.37360000e+00 8.44500000e-01\n",
      " 3.48400000e-01 1.00000000e-01 0.00000000e+00 3.71000000e-02\n",
      " 1.10358303e-03 1.00000000e+00 2.61021693e-01 3.15252572e-02\n",
      " 8.59982983e-02 3.75469940e-04 1.49390000e+00 3.58145818e-01\n",
      " 1.00000000e-01 1.14369587e-03 1.33010000e+00 5.13000000e-02\n",
      " 7.26817306e-01 9.78100000e-01 1.00000000e-03 2.21383549e-01\n",
      " 4.18999519e-04 3.94802130e-01 1.00000000e-01 5.00000000e+00\n",
      " 1.00000000e+00 1.00000000e+00 7.90345221e-01 2.52620236e-01\n",
      " 1.00000000e-03 3.66200000e-01 2.78000000e+00 1.30000000e-03\n",
      " 9.97900000e-01 5.00000000e-03 8.80000000e-03 2.30000000e-03\n",
      " 2.00000000e+00 9.98000000e-01 6.62100000e-01 1.82000000e-01\n",
      " 9.78540000e+00 9.03400000e-01 8.96300000e-01 7.44260000e+00\n",
      " 3.54100000e-01 2.35990000e+00 3.85360000e+00 5.22906028e-05\n",
      " 0.00000000e+00 3.00000000e+00 2.89600000e-01 3.00000000e+00\n",
      " 2.00000000e-01 2.12000000e-13 9.38000000e-13 0.00000000e+00\n",
      " 0.00000000e+00]\n"
     ]
    },
    {
     "name": "stderr",
     "output_type": "stream",
     "text": [
      "260it [02:40,  4.70s/it]"
     ]
    },
    {
     "name": "stdout",
     "output_type": "stream",
     "text": [
      "Function timed out. Skipping this sample. The params are [1.95000000e-04 1.05081703e-02 1.40000000e-03 3.74858306e-03\n",
      " 1.88328295e-04 3.99300000e-01 9.90131957e-02 6.33203292e-01\n",
      " 9.57499370e-02 4.10720583e-02 1.35661433e+00 9.63126650e-02\n",
      " 7.76194500e-02 9.87950000e+00 1.75610000e+00 1.20000000e-03\n",
      " 4.81180000e+00 5.03600000e-01 1.37360000e+00 8.44500000e-01\n",
      " 3.48400000e-01 1.00000000e-01 0.00000000e+00 3.71000000e-02\n",
      " 1.10358303e-03 1.00000000e+00 2.61021693e-01 3.15252572e-02\n",
      " 8.59982983e-02 3.75469940e-04 1.49390000e+00 3.58145818e-01\n",
      " 1.00000000e-01 1.14369587e-03 1.33010000e+00 5.13000000e-02\n",
      " 7.26817306e-01 9.78100000e-01 1.00000000e-03 2.21383549e-01\n",
      " 4.18999519e-04 3.94802130e-01 1.00000000e-01 5.00000000e+00\n",
      " 1.00000000e+00 1.00000000e+00 7.90345221e-01 2.52620236e-01\n",
      " 1.00000000e-03 3.66200000e-01 2.78000000e+00 1.30000000e-03\n",
      " 9.97900000e-01 5.00000000e-03 8.80000000e-03 2.30000000e-03\n",
      " 2.00000000e+00 9.98000000e-01 6.62100000e-01 1.82000000e-01\n",
      " 9.78540000e+00 9.03400000e-01 8.96300000e-01 7.44260000e+00\n",
      " 3.54100000e-01 2.35990000e+00 3.85360000e+00 5.22906028e-05\n",
      " 0.00000000e+00 3.00000000e+00 2.89600000e-01 3.00000000e+00\n",
      " 2.00000000e-01 2.12000000e-13 9.38000000e-13 0.00000000e+00\n",
      " 0.00000000e+00]\n"
     ]
    },
    {
     "name": "stderr",
     "output_type": "stream",
     "text": [
      "311it [03:12,  6.19s/it]"
     ]
    },
    {
     "name": "stdout",
     "output_type": "stream",
     "text": [
      "Function timed out. Skipping this sample. The params are [1.95000000e-04 8.91626506e-02 1.40000000e-03 5.55232799e-03\n",
      " 1.25876584e-04 3.99300000e-01 1.73781225e-02 6.33203292e-01\n",
      " 9.57499370e-02 1.02915962e-02 1.35661433e+00 9.63126650e-02\n",
      " 2.76682536e-01 9.87950000e+00 1.75610000e+00 1.20000000e-03\n",
      " 4.81180000e+00 5.03600000e-01 1.37360000e+00 8.44500000e-01\n",
      " 3.48400000e-01 1.00000000e-01 0.00000000e+00 3.71000000e-02\n",
      " 1.36307454e-02 1.00000000e+00 1.19211075e-01 1.13178695e-01\n",
      " 1.73237909e-01 1.10539567e-04 1.49390000e+00 4.57830092e-01\n",
      " 1.00000000e-01 3.58159099e-04 1.33010000e+00 5.13000000e-02\n",
      " 1.45162958e+01 9.78100000e-01 1.00000000e-03 9.22106320e-02\n",
      " 1.45246368e-03 8.79311797e-03 1.00000000e-01 5.00000000e+00\n",
      " 1.00000000e+00 1.00000000e+00 7.90345221e-01 2.52620236e-01\n",
      " 1.00000000e-03 3.66200000e-01 2.78000000e+00 1.30000000e-03\n",
      " 9.97900000e-01 5.00000000e-03 8.80000000e-03 2.30000000e-03\n",
      " 2.00000000e+00 9.98000000e-01 6.62100000e-01 1.82000000e-01\n",
      " 9.78540000e+00 9.03400000e-01 8.96300000e-01 7.44260000e+00\n",
      " 3.54100000e-01 2.35990000e+00 3.85360000e+00 5.18624538e-05\n",
      " 0.00000000e+00 3.00000000e+00 2.89600000e-01 3.00000000e+00\n",
      " 2.00000000e-01 2.12000000e-13 9.38000000e-13 0.00000000e+00\n",
      " 0.00000000e+00]\n"
     ]
    },
    {
     "name": "stderr",
     "output_type": "stream",
     "text": [
      "324it [03:35,  6.22s/it]"
     ]
    },
    {
     "name": "stdout",
     "output_type": "stream",
     "text": [
      "Function timed out. Skipping this sample. The params are [1.95000000e-04 1.05081703e-02 1.40000000e-03 3.74858306e-03\n",
      " 1.88328295e-04 3.99300000e-01 9.90131957e-02 6.33203292e-01\n",
      " 9.57499370e-02 4.10720583e-02 1.35661433e+00 9.63126650e-02\n",
      " 7.76194500e-02 9.87950000e+00 1.75610000e+00 1.20000000e-03\n",
      " 4.81180000e+00 5.03600000e-01 1.37360000e+00 8.44500000e-01\n",
      " 3.48400000e-01 1.00000000e-01 0.00000000e+00 3.71000000e-02\n",
      " 1.10358303e-03 1.00000000e+00 2.61021693e-01 3.15252572e-02\n",
      " 8.59982983e-02 3.75469940e-04 1.49390000e+00 3.58145818e-01\n",
      " 1.00000000e-01 1.14369587e-03 1.33010000e+00 5.13000000e-02\n",
      " 7.26817306e-01 9.78100000e-01 1.00000000e-03 2.21383549e-01\n",
      " 4.18999519e-04 3.94802130e-01 1.00000000e-01 5.00000000e+00\n",
      " 1.00000000e+00 1.00000000e+00 7.90345221e-01 2.52620236e-01\n",
      " 1.00000000e-03 3.66200000e-01 2.78000000e+00 1.30000000e-03\n",
      " 9.97900000e-01 5.00000000e-03 8.80000000e-03 2.30000000e-03\n",
      " 2.00000000e+00 9.98000000e-01 6.62100000e-01 1.82000000e-01\n",
      " 9.78540000e+00 9.03400000e-01 8.96300000e-01 7.44260000e+00\n",
      " 3.54100000e-01 2.35990000e+00 3.85360000e+00 5.22906028e-05\n",
      " 0.00000000e+00 3.00000000e+00 2.89600000e-01 3.00000000e+00\n",
      " 2.00000000e-01 2.12000000e-13 9.38000000e-13 0.00000000e+00\n",
      " 0.00000000e+00]\n"
     ]
    },
    {
     "name": "stderr",
     "output_type": "stream",
     "text": [
      "340it [03:58,  4.14s/it]"
     ]
    },
    {
     "name": "stdout",
     "output_type": "stream",
     "text": [
      "Function timed out. Skipping this sample. The params are [1.95000000e-04 1.05081703e-02 1.40000000e-03 3.74858306e-03\n",
      " 1.88328295e-04 3.99300000e-01 9.90131957e-02 6.33203292e-01\n",
      " 9.57499370e-02 4.10720583e-02 1.35661433e+00 9.63126650e-02\n",
      " 7.76194500e-02 9.87950000e+00 1.75610000e+00 1.20000000e-03\n",
      " 4.81180000e+00 5.03600000e-01 1.37360000e+00 8.44500000e-01\n",
      " 3.48400000e-01 1.00000000e-01 0.00000000e+00 3.71000000e-02\n",
      " 1.10358303e-03 1.00000000e+00 2.61021693e-01 3.15252572e-02\n",
      " 8.59982983e-02 3.75469940e-04 1.49390000e+00 3.58145818e-01\n",
      " 1.00000000e-01 1.14369587e-03 1.33010000e+00 5.13000000e-02\n",
      " 7.26817306e-01 9.78100000e-01 1.00000000e-03 2.21383549e-01\n",
      " 4.18999519e-04 3.94802130e-01 1.00000000e-01 5.00000000e+00\n",
      " 1.00000000e+00 1.00000000e+00 7.90345221e-01 2.52620236e-01\n",
      " 1.00000000e-03 3.66200000e-01 2.78000000e+00 1.30000000e-03\n",
      " 9.97900000e-01 5.00000000e-03 8.80000000e-03 2.30000000e-03\n",
      " 2.00000000e+00 9.98000000e-01 6.62100000e-01 1.82000000e-01\n",
      " 9.78540000e+00 9.03400000e-01 8.96300000e-01 7.44260000e+00\n",
      " 3.54100000e-01 2.35990000e+00 3.85360000e+00 5.22906028e-05\n",
      " 0.00000000e+00 3.00000000e+00 2.89600000e-01 3.00000000e+00\n",
      " 2.00000000e-01 2.12000000e-13 9.38000000e-13 0.00000000e+00\n",
      " 0.00000000e+00]\n"
     ]
    },
    {
     "name": "stderr",
     "output_type": "stream",
     "text": [
      "355it [04:21,  4.41s/it]"
     ]
    },
    {
     "name": "stdout",
     "output_type": "stream",
     "text": [
      "Function timed out. Skipping this sample. The params are [1.95000000e-04 8.70247895e-03 1.40000000e-03 1.47981100e-03\n",
      " 1.05196126e-04 3.99300000e-01 1.33343552e-01 6.33203292e-01\n",
      " 9.57499370e-02 3.38167453e-01 1.35661433e+00 9.63126650e-02\n",
      " 3.02838058e-01 9.87950000e+00 1.75610000e+00 1.20000000e-03\n",
      " 4.81180000e+00 5.03600000e-01 1.37360000e+00 8.44500000e-01\n",
      " 3.48400000e-01 1.00000000e-01 0.00000000e+00 3.71000000e-02\n",
      " 2.98865058e-01 1.00000000e+00 9.63135659e-03 2.18095959e-01\n",
      " 1.03819029e-01 5.15465760e-04 1.49390000e+00 5.08269708e-01\n",
      " 1.00000000e-01 2.67694916e-03 1.33010000e+00 5.13000000e-02\n",
      " 2.68538885e+00 9.78100000e-01 1.00000000e-03 1.56733421e+00\n",
      " 6.49387491e-04 2.04948870e-02 1.00000000e-01 5.00000000e+00\n",
      " 1.00000000e+00 1.00000000e+00 7.90345221e-01 2.52620236e-01\n",
      " 1.00000000e-03 3.66200000e-01 2.78000000e+00 1.30000000e-03\n",
      " 9.97900000e-01 5.00000000e-03 8.80000000e-03 2.30000000e-03\n",
      " 2.00000000e+00 9.98000000e-01 6.62100000e-01 1.82000000e-01\n",
      " 9.78540000e+00 9.03400000e-01 8.96300000e-01 7.44260000e+00\n",
      " 3.54100000e-01 2.35990000e+00 3.85360000e+00 8.47093137e-06\n",
      " 0.00000000e+00 3.00000000e+00 2.89600000e-01 3.00000000e+00\n",
      " 2.00000000e-01 2.12000000e-13 9.38000000e-13 0.00000000e+00\n",
      " 0.00000000e+00]\n"
     ]
    },
    {
     "name": "stderr",
     "output_type": "stream",
     "text": [
      "400it [04:28,  1.49it/s]\n"
     ]
    },
    {
     "name": "stdout",
     "output_type": "stream",
     "text": [
      "(400, 10)\n",
      "skipping shin_2014\n",
      "skipping ryu_2015\n",
      "skipping kochanczyk_2017\n"
     ]
    },
    {
     "data": {
      "image/png": "[encoded data removed]",
      "text/plain": [
       "<Figure size 1200x1200 with 1 Axes>"
      ]
     },
     "metadata": {},
     "output_type": "display_data"
    }
   ],
   "source": [
    "model_info = json.load(open('model_info.json', 'r'))\n",
    "\n",
    "plotting_params = {\n",
    "    'kholodenko_2000':[False,False,True,True],'levchenko_2000':[False,False,False,False],'hatakeyama_2003':[False,False,False,False],'hornberg_2005':[False,False,False,False],'birtwistle_2007':[False,False,False,False],'orton_2009':[True,True,True,True],'vonKriegsheim_2009':[True,True,False,False],'shin_2014':[True,True,False,False],'ryu_2015':[True,True,False,False],'kochanczyk_2017':[True,True,False,False]\n",
    "}\n",
    "\n",
    "skip_idxs = [0,1,2,3,4,5,7,8,9]\n",
    "for idx,model in enumerate(model_info.keys()):\n",
    "    if idx in skip_idxs:\n",
    "        print('skipping', model)\n",
    "        continue\n",
    "    else:\n",
    "        print('plotting', model)\n",
    "        this_model_info = model_info[model]\n",
    "\n",
    "        plot_p = plotting_params[model]\n",
    "\n",
    "        # create dose-response curve prediction\n",
    "        dose_response = predict_dose_response(model, idata[idx], inputs_dose_response,   \n",
    "                                this_model_info['input_state'], this_model_info['ERK_states'], \n",
    "                                float(this_model_info['max_time']), EGF_conversion_factor=float(this_model_info['EGF_conversion_factor']), \n",
    "                                nsamples=400, timeout=20)\n",
    "        print(dose_response.shape)\n",
    "        # save\n",
    "        np.save('../../../results/MAPK/param_est/HF96_traj_synthetic_data/'+model+'/dose_response_predict.npy', dose_response)\n",
    "\n",
    "        fig, ax = plot_stimulus_response_curve(dose_response, data_dose_response, inputs_dose_response, input_name='EGF stimulus (nM)', output_name='% maximal ERK \\n activity', box_color='w', data_color='r',\n",
    "                                        data_std=0.1, width=1.1, height=1.1, data_marker_size=5.0, scatter_marker_size=0,\n",
    "                                        title=this_model_info['display_name'], xlabel=plot_p[0],xticklabels=plot_p[1],ylabel=plot_p[2], yticklabels=plot_p[3])\n",
    "        ax.set_title(ax.get_title(), fontsize=12.0)\n",
    "        fig.savefig('../../../results/MAPK/param_est/HF96_traj_synthetic_data/'+model+'/dose_response_predict.pdf', transparent=True)\n"
   ]
  },
  {
   "cell_type": "code",
   "execution_count": 47,
   "metadata": {},
   "outputs": [
    {
     "data": {
      "image/png": "[encoded data removed]",
      "text/plain": [
       "<Figure size 1200x1200 with 1 Axes>"
      ]
     },
     "metadata": {},
     "output_type": "display_data"
    }
   ],
   "source": [
    "dat = np.array([0.02430687,0.02431452,0.02432863,0.02434297,0.02436283,0.02438208,0.02440009,0.02441545,0.02442762,0.02443718,0.02444718,0.02446368,0.024478,0.02458078,0.02469241,0.02485765,0.02502893,0.02527125,0.02551745,0.02585668,0.02620351,0.02662561,0.02705573,0.027559,0.02806609,0.02864914,0.02924129,0.02989964,0.03055656,0.03130131,0.03206414,0.03282364,0.03357919,0.03412593,0.03466094,0.03504022,0.03541715,0.03569278])\n",
    "\n",
    "color='#0173b2'\n",
    "fig, ax = get_sized_fig_ax(width=1.55, height=0.715)\n",
    "\n",
    "ax.plot(np.arange(0,dat.shape[0],1), dat, color=color, linewidth=2.5, label='data')\n",
    "fig.savefig('/Users/natetest/Downloads/tmp.pdf')"
   ]
  },
  {
   "cell_type": "code",
   "execution_count": null,
   "metadata": {},
   "outputs": [],
   "source": []
  }
 ],
 "metadata": {
  "kernelspec": {
   "display_name": "pymc5",
   "language": "python",
   "name": "python3"
  },
  "language_info": {
   "codemirror_mode": {
    "name": "ipython",
    "version": 3
   },
   "file_extension": ".py",
   "mimetype": "text/x-python",
   "name": "python",
   "nbconvert_exporter": "python",
   "pygments_lexer": "ipython3",
   "version": "3.11.6"
  }
 },
 "nbformat": 4,
 "nbformat_minor": 2
}
