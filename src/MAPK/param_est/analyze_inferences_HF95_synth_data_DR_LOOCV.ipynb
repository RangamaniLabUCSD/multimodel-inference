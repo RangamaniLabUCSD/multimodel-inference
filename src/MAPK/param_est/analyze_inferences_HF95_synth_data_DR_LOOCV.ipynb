{
 "cells": [
  {
   "cell_type": "markdown",
   "metadata": {},
   "source": [
    "This notebook compares three methods for computing or approximating the ELPD:\n",
    "- Full leave-one-out cross-validation (LOO-CV)\n",
    "- Pareto-smoothed importance sampling LOO-CV (PSIS-LOO-CV)\n",
    "- The approximation of the ELPD using the WAIC"
   ]
  },
  {
   "cell_type": "code",
   "execution_count": 277,
   "metadata": {},
   "outputs": [],
   "source": [
    "import arviz as az\n",
    "import pandas as pd\n",
    "import json\n",
    "import os\n",
    "\n",
    "import numpy as np\n",
    "import diffrax\n",
    "import matplotlib.pyplot as plt\n",
    "import seaborn as sns\n",
    "import jax\n",
    "import xarray\n",
    "import sys\n",
    "from scipy.stats import mode\n",
    "\n",
    "sys.path.append(\"../models/\")\n",
    "from shin_2014 import *\n",
    "\n",
    "jax.config.update(\"jax_enable_x64\", True)\n",
    "\n",
    "sys.path.insert(0, '../')\n",
    "from utils import *\n",
    "\n",
    "rng = np.random.default_rng(seed=1234)\n",
    "\n",
    "################ LOAD in DATA ################\n",
    "savedir = '../../../results/MAPK/param_est/HF96_synthetic_data/'\n",
    "\n",
    "# load in the model info \n",
    "model = 'shin_2014'\n",
    "model_info = json.load(open('model_info.json', 'r'))[model]\n",
    "display_name = \"S' 2014\"\n",
    "\n",
    "idata_old, _ = load_smc_samples_to_idata(savedir+model+'/'+model+'_smc_samples.json', sample_time=False)\n",
    "posterior_samples = np.load(savedir+model+'/'+model+'_posterior_predictive_samples.npy')\n",
    "\n",
    "\n",
    "# get training and testing data\n",
    "inputs, data = load_data('../../../results/MAPK/HF_96_synthetic_data.csv')\n",
    "\n",
    "# set up a color palette\n",
    "# this is the ColorBrewer purple-green with 11 colors + three greys https://colorbrewer2.org/#type=diverging&scheme=PRGn&n=11\n",
    "colors = ['#40004b','#762a83','#9970ab','#c2a5cf','#e7d4e8','#f7f7f7','#d9f0d3','#a6dba0','#5aae61','#1b7837','#00441b','#363737','#929591','#d8dcd6']\n"
   ]
  },
  {
   "cell_type": "code",
   "execution_count": 188,
   "metadata": {},
   "outputs": [],
   "source": [
    "def build_pymc_model_mutable_data(prior_param_dict, data, y0_EGF_inputs, \n",
    "                    output_states, max_time, model_dfrx_ode, model=None, \n",
    "                    simulator=ERK_stim_response, data_sigma=0.1):\n",
    "    \"\"\" Builds a pymc model object for the MAPK models.\n",
    "\n",
    "    Constructs priors for the model, and uses the ERK_stim_response function to \n",
    "    generate the stimulus response function and likelihood.\n",
    "    \"\"\"\n",
    "\n",
    "    \n",
    "    # Create jax functions to solve # \n",
    "    def sol_op_jax(y0, *params):\n",
    "        pred, _ = simulator(params, model_dfrx_ode, max_time, y0, output_states)\n",
    "        return jnp.vstack((pred))\n",
    "\n",
    "    # get the jitted versions\n",
    "    sol_op_jax_jitted = jax.jit(sol_op_jax)\n",
    "    \n",
    "    # Create pytensor Op and register with jax # \n",
    "    class StimRespOp(Op):\n",
    "        def make_node(self, *inputs):\n",
    "            # Convert our inputs to symbolic variables\n",
    "            inputs = [pt.as_tensor_variable(inp) for inp in inputs]\n",
    "            # Assume the output to always be a float64 matrix\n",
    "            outputs = [pt.matrix()]\n",
    "            return Apply(self, inputs, outputs)\n",
    "\n",
    "        def perform(self, node, inputs, outputs):\n",
    "            result = sol_op_jax_jitted(*inputs)\n",
    "            outputs[0][0] = np.asarray(result, dtype=\"float64\")\n",
    "        \n",
    "        def grad(self, inputs, output_grads):\n",
    "            raise NotImplementedError(\"PyTensor gradient of StimRespOp not implemented\")\n",
    "\n",
    "\n",
    "    # construct Ops and register with jax_funcify\n",
    "    sol_op = StimRespOp()\n",
    "\n",
    "    @jax_funcify.register(StimRespOp)\n",
    "    def sol_op_jax_funcify(op, **kwargs):\n",
    "        return sol_op_jax\n",
    "    \n",
    "    inp_idxs = np.linspace(0, len(data), len(data), dtype=int)\n",
    "    # Construct the PyMC model # \n",
    "    model = pm.Model()\n",
    "    with model:\n",
    "        model.add_coord(\"stim\", np.arange(len(inputs)), mutable=True)\n",
    "        model.add_coord(\"state\", np.arange(len(np.array(y0))), mutable=False)\n",
    "        model.add_coord(\"ERK\", np.array([1.0]), mutable=False)\n",
    "        ins = pm.MutableData('inputs', y0_EGF_inputs, dims=(\"stim\", \"state\"))\n",
    "        y_obs = pm.MutableData('y_obs', data, dims=(\"stim\", \"ERK\"))\n",
    "        \n",
    "        # loop over free params and construct the priors\n",
    "        priors = [ins]\n",
    "        for key, value in prior_param_dict.items():\n",
    "            # create PyMC variables for each parameters in the model\n",
    "\n",
    "            prior = eval(value)\n",
    "            priors.append(prior)\n",
    "\n",
    "        # predict dose response\n",
    "        prediction = sol_op(*priors)\n",
    "\n",
    "        # assume a normal model for the data\n",
    "        # sigma specified by the data_sigma param to this function\n",
    "        llike = pm.Normal(\"y\", mu=prediction, sigma=data_sigma, observed=y_obs, dims=(\"stim\",\"ERK\"),)\n",
    "\n",
    "    return model, sol_op_jax_jitted"
   ]
  },
  {
   "cell_type": "markdown",
   "metadata": {},
   "source": [
    "#### Build PyMC model for S' 2014\n",
    "This repeats code that is in `inference_process_dose_response.ipynb` to build the PyMC model for S' 2014."
   ]
  },
  {
   "cell_type": "code",
   "execution_count": 189,
   "metadata": {},
   "outputs": [
    {
     "name": "stdout",
     "output_type": "stream",
     "text": [
      "ERK_tot 22.6 0.0022600000000000003\n",
      "pm.LogNormal(\"ERK_tot\",sigma=2.349619800594078, mu=-1.487220279709851, )\n",
      "ki39 0.07716 7.716e-06\n",
      "pm.LogNormal(\"ki39\",sigma=2.349619800594078, mu=-7.1670442769327005, )\n",
      "kd39 16.16 0.001616\n",
      "pm.LogNormal(\"kd39\",sigma=2.349619800594077, mu=-1.822631132895142, )\n",
      "kc41 5073.0 0.5073\n",
      "pm.LogNormal(\"kc41\",sigma=2.349619800594078, mu=3.9265174515785985, )\n",
      "kc43 466.3 0.046630000000000005\n",
      "pm.LogNormal(\"kc43\",sigma=2.349619800594078, mu=1.539659017826184, )\n",
      "kc45 6.872 0.0006872\n",
      "pm.LogNormal(\"kc45\",sigma=2.349619800594077, mu=-2.677715001306137, )\n",
      "kc47 39.050000000000004 0.003905\n",
      "pm.LogNormal(\"kc47\",sigma=2.349619800594077, mu=-0.9403273097023963, )\n",
      "Using newton for SS with tols atol=1e-06, rtol=1e-06.\n"
     ]
    }
   ],
   "source": [
    "model_func = eval(model + '(transient=False)')\n",
    "\n",
    "# get parameter names and initial conditions\n",
    "p_dict, plist = model_func.get_nominal_params()\n",
    "y0_dict, y0 = model_func.get_initial_conditions()\n",
    "\n",
    "# convert EGF to required units\n",
    "inputs_native_units = inputs * float(model_info['EGF_conversion_factor'])\n",
    "\n",
    "# get the params to sample\n",
    "analyze_params = model_info['free_params'].split(',')\n",
    "free_param_idxs = [list(p_dict.keys()).index(p) for p in analyze_params]\n",
    "\n",
    "data_sigma = 0.1\n",
    "\n",
    "# get the EGF index and ERK indices\n",
    "state_names = list(y0_dict.keys())\n",
    "EGF_idx = state_names.index(model_info['input_state'])\n",
    "ERK_indices = [state_names.index(s) for s in model_info['ERK_states'].split(',')]\n",
    "\n",
    "# construct the strings to make priors and constants\n",
    "prior_param_dict = set_prior_params(model, list(p_dict.keys()), plist, free_param_idxs,\n",
    "                                    upper_mult=100, lower_mult=0.01,prior_family=model_info['prior_family'], saveplot=False, savedir=None)\n",
    "plt.close('all')\n",
    "\n",
    "# make initial conditions that reflect the inputs\n",
    "y0_EGF_ins = construct_y0_EGF_inputs(inputs_native_units, np.array([y0]), EGF_idx)\n",
    "\n",
    "# simulator function\n",
    "if model_info['ss_method'] == 'ode':\n",
    "    event_rtol = float(model_info['event_rtol'])\n",
    "    event_atol = float(model_info['event_atol'])\n",
    "elif model_info['ss_method'] == 'newton':\n",
    "    event_rtol = float(model_info['newton_event_rtol'])\n",
    "    event_atol = float(model_info['newton_event_atol'])\n",
    "\n",
    "print('Using {} for SS with tols atol={}, rtol={}.'.format(model_info['ss_method'], event_atol, event_rtol))\n",
    "simulator = lambda params, model_dfrx_ode, max_time, y0_EGF_inputs, \\\n",
    "    output_states: ERK_stim_response(params, model_dfrx_ode, max_time, y0_EGF_inputs, \n",
    "                    output_states, event_rtol=event_rtol, event_atol=event_atol,\n",
    "                    rtol=float(model_info['rtol']), atol=float(model_info['atol']), ode_or_newton=model_info['ss_method'])\n",
    "\n",
    "\n",
    "# construct the pymc model\n",
    "pymc_model, sol_op_jax_jitted = build_pymc_model_mutable_data(prior_param_dict, data, y0_EGF_ins, \n",
    "                ERK_indices, jnp.inf, diffrax.ODETerm(model_func), simulator=simulator)"
   ]
  },
  {
   "cell_type": "code",
   "execution_count": 285,
   "metadata": {},
   "outputs": [
    {
     "name": "stderr",
     "output_type": "stream",
     "text": [
      "Initializing SMC sampler...\n",
      "Sampling 4 chains in 1 job\n"
     ]
    },
    {
     "data": {
      "text/html": [
       "\n",
       "<style>\n",
       "    /* Turns off some styling */\n",
       "    progress {\n",
       "        /* gets rid of default border in Firefox and Opera. */\n",
       "        border: none;\n",
       "        /* Needs to be in here for Safari polyfill so background images work as expected. */\n",
       "        background-size: auto;\n",
       "    }\n",
       "    progress:not([value]), progress:not([value])::-webkit-progress-bar {\n",
       "        background: repeating-linear-gradient(45deg, #7e7e7e, #7e7e7e 10px, #5c5c5c 10px, #5c5c5c 20px);\n",
       "    }\n",
       "    .progress-bar-interrupted, .progress-bar-interrupted::-webkit-progress-bar {\n",
       "        background: #F44336;\n",
       "    }\n",
       "</style>\n"
      ],
      "text/plain": [
       "<IPython.core.display.HTML object>"
      ]
     },
     "metadata": {},
     "output_type": "display_data"
    },
    {
     "data": {
      "text/html": [
       "\n",
       "    <div>\n",
       "      <progress value='400' class='' max='400' style='width:300px; height:20px; vertical-align: middle;'></progress>\n",
       "      100.00% [400/400 00:00&lt;? Chain: 4/4 Stage: 4 Beta: 1.000]\n",
       "    </div>\n",
       "    "
      ],
      "text/plain": [
       "<IPython.core.display.HTML object>"
      ]
     },
     "metadata": {},
     "output_type": "display_data"
    },
    {
     "name": "stdout",
     "output_type": "stream",
     "text": [
      "    "
     ]
    },
    {
     "name": "stderr",
     "output_type": "stream",
     "text": [
      "The rhat statistic is larger than 1.01 for some parameters. This indicates problems during sampling. See https://arxiv.org/abs/1903.08008 for details\n",
      "The effective sample size per chain is smaller than 100 for some parameters.  A higher number is needed for reliable rhat and ess computation. See https://arxiv.org/abs/1903.08008 for details\n"
     ]
    }
   ],
   "source": [
    "# first set up dictionary of kwargs for the sampling function\n",
    "sample_kwargs = {\n",
    "    \"draws\": 1000,\n",
    "    \"cores\": 1,\n",
    "    \"chains\": 4,\n",
    "    \"progressbar\": True,\n",
    "    \"threshold\": 0.5,\n",
    "    \"correlation_threshold\": 0.01,\n",
    "    \"idata_kwargs\": {'log_likelihood': True},\n",
    "}\n",
    "\n",
    "# Run the sampler again\n",
    "with pymc_model:\n",
    "        idata = pm.sample_smc(\n",
    "            **sample_kwargs,\n",
    "        )"
   ]
  },
  {
   "cell_type": "code",
   "execution_count": 314,
   "metadata": {},
   "outputs": [
    {
     "name": "stderr",
     "output_type": "stream",
     "text": [
      "/Users/natetest/miniforge3/envs/pymc/lib/python3.11/site-packages/arviz/stats/stats.py:803: UserWarning: Estimated shape parameter of Pareto distribution is greater than 0.7 for one or more samples. You should consider using a more robust model, this is because importance sampling is less likely to work well if the marginal posterior and LOO posterior are very different. This is more likely to happen with a non-robust model and highly influential observations.\n",
      "  warnings.warn(\n",
      "/Users/natetest/miniforge3/envs/pymc/lib/python3.11/site-packages/arviz/stats/stats.py:1645: UserWarning: For one or more samples the posterior variance of the log predictive densities exceeds 0.4. This could be indication of WAIC starting to fail. \n",
      "See http://arxiv.org/abs/1507.04544 for details\n",
      "  warnings.warn(\n"
     ]
    },
    {
     "data": {
      "text/plain": [
       "(-0.35000000000000003, 7.35)"
      ]
     },
     "execution_count": 314,
     "metadata": {},
     "output_type": "execute_result"
    },
    {
     "data": {
      "image/png": "[encoded data removed]",
      "text/plain": [
       "<Figure size 1200x1200 with 1 Axes>"
      ]
     },
     "metadata": {},
     "output_type": "display_data"
    }
   ],
   "source": [
    "psis_loo_cv = az.loo(idata, pointwise=True)\n",
    "waic = az.waic(idata, pointwise=True)\n",
    "# print(psis_loo_cv)\n",
    "# make shape parameter plot\n",
    "fig, ax = get_sized_fig_ax(3, 1.25)\n",
    "az.plot_khat(psis_loo_cv, ax=ax, threshold=0.7)\n",
    "xlim = ax.get_xlim()\n",
    "ax.plot(xlim, [0.7, 0.7], 'r--')\n",
    "ax.set_xlim(xlim)"
   ]
  },
  {
   "cell_type": "markdown",
   "metadata": {},
   "source": [
    "#### Use Arviz reloo to recompute the LOO-CV estimate by resampling the model with the appropriate held-out data points\n",
    "We will do this two ways:\n",
    "1. Only refitting for the *problematic* data points, the data points with a shape parameter $k$ that is greater than 0.7\n",
    "2. Performing a full LOO-CV, refitting with each held-out data point"
   ]
  },
  {
   "cell_type": "markdown",
   "metadata": {},
   "source": [
    "##### Custom Arviz PyMC SamplingWrapper\n",
    "The original Arviz wrapper does not allow use of SMC sampling. This notebook provides a custom wrapper that allows for SMC sampling."
   ]
  },
  {
   "cell_type": "code",
   "execution_count": 292,
   "metadata": {},
   "outputs": [],
   "source": [
    "from scipy import stats\n",
    "from xarray_einstats.stats import XrContinuousRV\n",
    "\n",
    "\n",
    "class PyMC_ODE_Wrapper(az.PyMCSamplingWrapper):\n",
    "    def sample(self, modified_observed_data):\n",
    "        \"\"\"Update data and sample model on modified_observed_data.\"\"\"\n",
    "        import pymc  # pylint: disable=import-error\n",
    "\n",
    "        # The original Arviz PyMC wrapper used the pm.sample() function which\n",
    "        #   does not perform SMC sampling.\n",
    "        with self.model:\n",
    "            # from https://python.arviz.org/en/v0.17.1/user_guide/pymc_refitting.html\n",
    "            # if the model had coords the dim needs to be updated before\n",
    "            # modifying the data in the model with set_data\n",
    "            # otherwise, we don't need to overwrite the sample method\n",
    "            n__i = len(modified_observed_data[\"inputs\"])\n",
    "            self.model.set_dim(\"stim\", n__i, coord_values=np.arange(n__i))\n",
    "\n",
    "            pymc.set_data(modified_observed_data)\n",
    "            # idata = pymc.sample(\n",
    "            #     **self.sample_kwargs,\n",
    "            # )\n",
    "            # use the SMC sampling function\n",
    "            idata = pymc.sample_smc(\n",
    "                **self.sample_kwargs,\n",
    "            )\n",
    "\n",
    "        return idata\n",
    "\n",
    "    def log_likelihood__i(self, excluded_observed_data, idata__i):\n",
    "        post = idata__i.posterior\n",
    "        names = list(idata.posterior.data_vars.keys())\n",
    "        print(names)\n",
    "        post_param_vals = np.array([post[param] for param in post.data_vars])\n",
    "        nvars,nchains,nsamples = post_param_vals.shape\n",
    "        post_param_vals = post_param_vals.reshape(nvars,nchains*nsamples).T\n",
    "        \n",
    "        preds = []\n",
    "        for psample in post_param_vals:\n",
    "            pdict = p_dict.copy()\n",
    "            for i, param in enumerate(psample):\n",
    "                pdict[names[i]] = param\n",
    "            params = list(pdict.values())\n",
    "\n",
    "            \n",
    "            preds.append(sol_op_jax_jitted(jnp.array(excluded_observed_data[\"inputs\"]), *params))\n",
    "            \n",
    "        preds = np.squeeze(np.array(preds))\n",
    "        \n",
    "        preds = preds.reshape(nchains, nsamples, len(excluded_observed_data[\"inputs\"]))\n",
    "        preds = xarray.DataArray(preds, dims=(\"chain\", \"draw\", \"stim\"))\n",
    "\n",
    "\n",
    "        \n",
    "        dist = XrContinuousRV(\n",
    "            stats.norm,\n",
    "            preds,\n",
    "            data_sigma,\n",
    "        )\n",
    "        return dist.logpdf(excluded_observed_data[\"y_obs\"])\n",
    "\n",
    "    def sel_observations(self, idx):\n",
    "        xdata = self.idata_orig[\"constant_data\"][\"inputs\"]\n",
    "        ydata = self.idata_orig[\"observed_data\"][\"y\"]\n",
    "        mask = np.isin(np.arange(len(xdata)), idx)\n",
    "        data_dict = {\"inputs\": xdata, \"y_obs\": ydata}\n",
    "        data__i = {key: value.values[~mask] for key, value in data_dict.items()}\n",
    "        data_ex = {key: value.isel(stim=idx) for key, value in data_dict.items()}\n",
    "        return data__i, data_ex\n",
    "    \n",
    "\n",
    "    def get_inference_data(self, fitted_model):\n",
    "        \"\"\"Return sampling result without modifying.\n",
    "\n",
    "        PyMC sampling already returns and InferenceData object.\n",
    "        \"\"\"\n",
    "        return fitted_model\n"
   ]
  },
  {
   "cell_type": "code",
   "execution_count": 293,
   "metadata": {},
   "outputs": [],
   "source": [
    "sample_kwargs = {\n",
    "    \"draws\": 1000,\n",
    "    \"cores\": 1,\n",
    "    \"chains\": 4,\n",
    "    \"progressbar\": True,\n",
    "    \"threshold\": 0.5,\n",
    "    \"correlation_threshold\": 0.01,\n",
    "    \"idata_kwargs\": {'log_likelihood': True}\n",
    "}\n",
    "\n",
    "# wrap the model\n",
    "wrapped_model = PyMC_ODE_Wrapper(pymc_model, idata_orig=idata, sample_kwargs=sample_kwargs)"
   ]
  },
  {
   "cell_type": "markdown",
   "metadata": {},
   "source": [
    "Perform full LOO-CV. Following https://python.arviz.org/en/v0.17.1/user_guide/pymc_refitting.html, we artificially set the k-shape parameter to above the 0.7 threshold to force refitting."
   ]
  },
  {
   "cell_type": "code",
   "execution_count": 297,
   "metadata": {},
   "outputs": [
    {
     "name": "stderr",
     "output_type": "stream",
     "text": [
      "/Users/natetest/miniforge3/envs/pymc/lib/python3.11/site-packages/arviz/stats/stats_refitting.py:99: UserWarning: reloo is an experimental and untested feature\n",
      "  warnings.warn(\"reloo is an experimental and untested feature\", UserWarning)\n",
      "Initializing SMC sampler...\n",
      "Sampling 4 chains in 1 job\n"
     ]
    },
    {
     "data": {
      "text/html": [
       "\n",
       "<style>\n",
       "    /* Turns off some styling */\n",
       "    progress {\n",
       "        /* gets rid of default border in Firefox and Opera. */\n",
       "        border: none;\n",
       "        /* Needs to be in here for Safari polyfill so background images work as expected. */\n",
       "        background-size: auto;\n",
       "    }\n",
       "    progress:not([value]), progress:not([value])::-webkit-progress-bar {\n",
       "        background: repeating-linear-gradient(45deg, #7e7e7e, #7e7e7e 10px, #5c5c5c 10px, #5c5c5c 20px);\n",
       "    }\n",
       "    .progress-bar-interrupted, .progress-bar-interrupted::-webkit-progress-bar {\n",
       "        background: #F44336;\n",
       "    }\n",
       "</style>\n"
      ],
      "text/plain": [
       "<IPython.core.display.HTML object>"
      ]
     },
     "metadata": {},
     "output_type": "display_data"
    },
    {
     "data": {
      "text/html": [
       "\n",
       "    <div>\n",
       "      <progress value='400' class='' max='400' style='width:300px; height:20px; vertical-align: middle;'></progress>\n",
       "      100.00% [400/400 00:00&lt;? Chain: 4/4 Stage: 4 Beta: 1.000]\n",
       "    </div>\n",
       "    "
      ],
      "text/plain": [
       "<IPython.core.display.HTML object>"
      ]
     },
     "metadata": {},
     "output_type": "display_data"
    },
    {
     "name": "stdout",
     "output_type": "stream",
     "text": [
      "    "
     ]
    },
    {
     "name": "stderr",
     "output_type": "stream",
     "text": [
      "The rhat statistic is larger than 1.01 for some parameters. This indicates problems during sampling. See https://arxiv.org/abs/1903.08008 for details\n",
      "The effective sample size per chain is smaller than 100 for some parameters.  A higher number is needed for reliable rhat and ess computation. See https://arxiv.org/abs/1903.08008 for details\n"
     ]
    },
    {
     "name": "stdout",
     "output_type": "stream",
     "text": [
      "['ERK_tot', 'ki39', 'kd39', 'kc41', 'kc43', 'kc45', 'kc47']\n"
     ]
    },
    {
     "name": "stderr",
     "output_type": "stream",
     "text": [
      "Initializing SMC sampler...\n",
      "Sampling 4 chains in 1 job\n"
     ]
    },
    {
     "data": {
      "text/html": [
       "\n",
       "<style>\n",
       "    /* Turns off some styling */\n",
       "    progress {\n",
       "        /* gets rid of default border in Firefox and Opera. */\n",
       "        border: none;\n",
       "        /* Needs to be in here for Safari polyfill so background images work as expected. */\n",
       "        background-size: auto;\n",
       "    }\n",
       "    progress:not([value]), progress:not([value])::-webkit-progress-bar {\n",
       "        background: repeating-linear-gradient(45deg, #7e7e7e, #7e7e7e 10px, #5c5c5c 10px, #5c5c5c 20px);\n",
       "    }\n",
       "    .progress-bar-interrupted, .progress-bar-interrupted::-webkit-progress-bar {\n",
       "        background: #F44336;\n",
       "    }\n",
       "</style>\n"
      ],
      "text/plain": [
       "<IPython.core.display.HTML object>"
      ]
     },
     "metadata": {},
     "output_type": "display_data"
    },
    {
     "data": {
      "text/html": [
       "\n",
       "    <div>\n",
       "      <progress value='400' class='' max='400' style='width:300px; height:20px; vertical-align: middle;'></progress>\n",
       "      100.00% [400/400 00:00&lt;? Chain: 4/4 Stage: 2 Beta: 1.000]\n",
       "    </div>\n",
       "    "
      ],
      "text/plain": [
       "<IPython.core.display.HTML object>"
      ]
     },
     "metadata": {},
     "output_type": "display_data"
    },
    {
     "name": "stdout",
     "output_type": "stream",
     "text": [
      "    "
     ]
    },
    {
     "name": "stderr",
     "output_type": "stream",
     "text": [
      "/Users/natetest/miniforge3/envs/pymc/lib/python3.11/site-packages/arviz/data/base.py:221: UserWarning: More chains (4) than draws (3). Passed array should have shape (chains, draws, *shape)\n",
      "  warnings.warn(\n"
     ]
    },
    {
     "name": "stdout",
     "output_type": "stream",
     "text": [
      "['ERK_tot', 'ki39', 'kd39', 'kc41', 'kc43', 'kc45', 'kc47']\n"
     ]
    },
    {
     "name": "stderr",
     "output_type": "stream",
     "text": [
      "Initializing SMC sampler...\n",
      "Sampling 4 chains in 1 job\n"
     ]
    },
    {
     "data": {
      "text/html": [
       "\n",
       "<style>\n",
       "    /* Turns off some styling */\n",
       "    progress {\n",
       "        /* gets rid of default border in Firefox and Opera. */\n",
       "        border: none;\n",
       "        /* Needs to be in here for Safari polyfill so background images work as expected. */\n",
       "        background-size: auto;\n",
       "    }\n",
       "    progress:not([value]), progress:not([value])::-webkit-progress-bar {\n",
       "        background: repeating-linear-gradient(45deg, #7e7e7e, #7e7e7e 10px, #5c5c5c 10px, #5c5c5c 20px);\n",
       "    }\n",
       "    .progress-bar-interrupted, .progress-bar-interrupted::-webkit-progress-bar {\n",
       "        background: #F44336;\n",
       "    }\n",
       "</style>\n"
      ],
      "text/plain": [
       "<IPython.core.display.HTML object>"
      ]
     },
     "metadata": {},
     "output_type": "display_data"
    },
    {
     "data": {
      "text/html": [
       "\n",
       "    <div>\n",
       "      <progress value='400' class='' max='400' style='width:300px; height:20px; vertical-align: middle;'></progress>\n",
       "      100.00% [400/400 00:00&lt;? Chain: 4/4 Stage: 4 Beta: 1.000]\n",
       "    </div>\n",
       "    "
      ],
      "text/plain": [
       "<IPython.core.display.HTML object>"
      ]
     },
     "metadata": {},
     "output_type": "display_data"
    },
    {
     "name": "stdout",
     "output_type": "stream",
     "text": [
      "    "
     ]
    },
    {
     "name": "stderr",
     "output_type": "stream",
     "text": [
      "The rhat statistic is larger than 1.01 for some parameters. This indicates problems during sampling. See https://arxiv.org/abs/1903.08008 for details\n",
      "The effective sample size per chain is smaller than 100 for some parameters.  A higher number is needed for reliable rhat and ess computation. See https://arxiv.org/abs/1903.08008 for details\n"
     ]
    },
    {
     "name": "stdout",
     "output_type": "stream",
     "text": [
      "['ERK_tot', 'ki39', 'kd39', 'kc41', 'kc43', 'kc45', 'kc47']\n"
     ]
    },
    {
     "name": "stderr",
     "output_type": "stream",
     "text": [
      "Initializing SMC sampler...\n",
      "Sampling 4 chains in 1 job\n"
     ]
    },
    {
     "data": {
      "text/html": [
       "\n",
       "<style>\n",
       "    /* Turns off some styling */\n",
       "    progress {\n",
       "        /* gets rid of default border in Firefox and Opera. */\n",
       "        border: none;\n",
       "        /* Needs to be in here for Safari polyfill so background images work as expected. */\n",
       "        background-size: auto;\n",
       "    }\n",
       "    progress:not([value]), progress:not([value])::-webkit-progress-bar {\n",
       "        background: repeating-linear-gradient(45deg, #7e7e7e, #7e7e7e 10px, #5c5c5c 10px, #5c5c5c 20px);\n",
       "    }\n",
       "    .progress-bar-interrupted, .progress-bar-interrupted::-webkit-progress-bar {\n",
       "        background: #F44336;\n",
       "    }\n",
       "</style>\n"
      ],
      "text/plain": [
       "<IPython.core.display.HTML object>"
      ]
     },
     "metadata": {},
     "output_type": "display_data"
    },
    {
     "data": {
      "text/html": [
       "\n",
       "    <div>\n",
       "      <progress value='400' class='' max='400' style='width:300px; height:20px; vertical-align: middle;'></progress>\n",
       "      100.00% [400/400 00:00&lt;? Chain: 4/4 Stage: 3 Beta: 1.000]\n",
       "    </div>\n",
       "    "
      ],
      "text/plain": [
       "<IPython.core.display.HTML object>"
      ]
     },
     "metadata": {},
     "output_type": "display_data"
    },
    {
     "name": "stdout",
     "output_type": "stream",
     "text": [
      "    "
     ]
    },
    {
     "name": "stderr",
     "output_type": "stream",
     "text": [
      "The rhat statistic is larger than 1.01 for some parameters. This indicates problems during sampling. See https://arxiv.org/abs/1903.08008 for details\n",
      "The effective sample size per chain is smaller than 100 for some parameters.  A higher number is needed for reliable rhat and ess computation. See https://arxiv.org/abs/1903.08008 for details\n"
     ]
    },
    {
     "name": "stdout",
     "output_type": "stream",
     "text": [
      "['ERK_tot', 'ki39', 'kd39', 'kc41', 'kc43', 'kc45', 'kc47']\n"
     ]
    },
    {
     "name": "stderr",
     "output_type": "stream",
     "text": [
      "Initializing SMC sampler...\n",
      "Sampling 4 chains in 1 job\n"
     ]
    },
    {
     "data": {
      "text/html": [
       "\n",
       "<style>\n",
       "    /* Turns off some styling */\n",
       "    progress {\n",
       "        /* gets rid of default border in Firefox and Opera. */\n",
       "        border: none;\n",
       "        /* Needs to be in here for Safari polyfill so background images work as expected. */\n",
       "        background-size: auto;\n",
       "    }\n",
       "    progress:not([value]), progress:not([value])::-webkit-progress-bar {\n",
       "        background: repeating-linear-gradient(45deg, #7e7e7e, #7e7e7e 10px, #5c5c5c 10px, #5c5c5c 20px);\n",
       "    }\n",
       "    .progress-bar-interrupted, .progress-bar-interrupted::-webkit-progress-bar {\n",
       "        background: #F44336;\n",
       "    }\n",
       "</style>\n"
      ],
      "text/plain": [
       "<IPython.core.display.HTML object>"
      ]
     },
     "metadata": {},
     "output_type": "display_data"
    },
    {
     "data": {
      "text/html": [
       "\n",
       "    <div>\n",
       "      <progress value='400' class='' max='400' style='width:300px; height:20px; vertical-align: middle;'></progress>\n",
       "      100.00% [400/400 00:00&lt;? Chain: 4/4 Stage: 3 Beta: 1.000]\n",
       "    </div>\n",
       "    "
      ],
      "text/plain": [
       "<IPython.core.display.HTML object>"
      ]
     },
     "metadata": {},
     "output_type": "display_data"
    },
    {
     "name": "stdout",
     "output_type": "stream",
     "text": [
      "    "
     ]
    },
    {
     "name": "stderr",
     "output_type": "stream",
     "text": [
      "The rhat statistic is larger than 1.01 for some parameters. This indicates problems during sampling. See https://arxiv.org/abs/1903.08008 for details\n",
      "The effective sample size per chain is smaller than 100 for some parameters.  A higher number is needed for reliable rhat and ess computation. See https://arxiv.org/abs/1903.08008 for details\n"
     ]
    },
    {
     "name": "stdout",
     "output_type": "stream",
     "text": [
      "['ERK_tot', 'ki39', 'kd39', 'kc41', 'kc43', 'kc45', 'kc47']\n"
     ]
    },
    {
     "name": "stderr",
     "output_type": "stream",
     "text": [
      "Initializing SMC sampler...\n",
      "Sampling 4 chains in 1 job\n"
     ]
    },
    {
     "data": {
      "text/html": [
       "\n",
       "<style>\n",
       "    /* Turns off some styling */\n",
       "    progress {\n",
       "        /* gets rid of default border in Firefox and Opera. */\n",
       "        border: none;\n",
       "        /* Needs to be in here for Safari polyfill so background images work as expected. */\n",
       "        background-size: auto;\n",
       "    }\n",
       "    progress:not([value]), progress:not([value])::-webkit-progress-bar {\n",
       "        background: repeating-linear-gradient(45deg, #7e7e7e, #7e7e7e 10px, #5c5c5c 10px, #5c5c5c 20px);\n",
       "    }\n",
       "    .progress-bar-interrupted, .progress-bar-interrupted::-webkit-progress-bar {\n",
       "        background: #F44336;\n",
       "    }\n",
       "</style>\n"
      ],
      "text/plain": [
       "<IPython.core.display.HTML object>"
      ]
     },
     "metadata": {},
     "output_type": "display_data"
    },
    {
     "data": {
      "text/html": [
       "\n",
       "    <div>\n",
       "      <progress value='400' class='' max='400' style='width:300px; height:20px; vertical-align: middle;'></progress>\n",
       "      100.00% [400/400 00:00&lt;? Chain: 4/4 Stage: 3 Beta: 1.000]\n",
       "    </div>\n",
       "    "
      ],
      "text/plain": [
       "<IPython.core.display.HTML object>"
      ]
     },
     "metadata": {},
     "output_type": "display_data"
    },
    {
     "name": "stdout",
     "output_type": "stream",
     "text": [
      "    "
     ]
    },
    {
     "name": "stderr",
     "output_type": "stream",
     "text": [
      "The rhat statistic is larger than 1.01 for some parameters. This indicates problems during sampling. See https://arxiv.org/abs/1903.08008 for details\n",
      "The effective sample size per chain is smaller than 100 for some parameters.  A higher number is needed for reliable rhat and ess computation. See https://arxiv.org/abs/1903.08008 for details\n"
     ]
    },
    {
     "name": "stdout",
     "output_type": "stream",
     "text": [
      "['ERK_tot', 'ki39', 'kd39', 'kc41', 'kc43', 'kc45', 'kc47']\n"
     ]
    },
    {
     "name": "stderr",
     "output_type": "stream",
     "text": [
      "Initializing SMC sampler...\n",
      "Sampling 4 chains in 1 job\n"
     ]
    },
    {
     "data": {
      "text/html": [
       "\n",
       "<style>\n",
       "    /* Turns off some styling */\n",
       "    progress {\n",
       "        /* gets rid of default border in Firefox and Opera. */\n",
       "        border: none;\n",
       "        /* Needs to be in here for Safari polyfill so background images work as expected. */\n",
       "        background-size: auto;\n",
       "    }\n",
       "    progress:not([value]), progress:not([value])::-webkit-progress-bar {\n",
       "        background: repeating-linear-gradient(45deg, #7e7e7e, #7e7e7e 10px, #5c5c5c 10px, #5c5c5c 20px);\n",
       "    }\n",
       "    .progress-bar-interrupted, .progress-bar-interrupted::-webkit-progress-bar {\n",
       "        background: #F44336;\n",
       "    }\n",
       "</style>\n"
      ],
      "text/plain": [
       "<IPython.core.display.HTML object>"
      ]
     },
     "metadata": {},
     "output_type": "display_data"
    },
    {
     "data": {
      "text/html": [
       "\n",
       "    <div>\n",
       "      <progress value='400' class='' max='400' style='width:300px; height:20px; vertical-align: middle;'></progress>\n",
       "      100.00% [400/400 00:00&lt;? Chain: 4/4 Stage: 4 Beta: 1.000]\n",
       "    </div>\n",
       "    "
      ],
      "text/plain": [
       "<IPython.core.display.HTML object>"
      ]
     },
     "metadata": {},
     "output_type": "display_data"
    },
    {
     "name": "stdout",
     "output_type": "stream",
     "text": [
      "    "
     ]
    },
    {
     "name": "stderr",
     "output_type": "stream",
     "text": [
      "The rhat statistic is larger than 1.01 for some parameters. This indicates problems during sampling. See https://arxiv.org/abs/1903.08008 for details\n",
      "The effective sample size per chain is smaller than 100 for some parameters.  A higher number is needed for reliable rhat and ess computation. See https://arxiv.org/abs/1903.08008 for details\n"
     ]
    },
    {
     "name": "stdout",
     "output_type": "stream",
     "text": [
      "['ERK_tot', 'ki39', 'kd39', 'kc41', 'kc43', 'kc45', 'kc47']\n"
     ]
    },
    {
     "name": "stderr",
     "output_type": "stream",
     "text": [
      "Initializing SMC sampler...\n",
      "Sampling 4 chains in 1 job\n"
     ]
    },
    {
     "data": {
      "text/html": [
       "\n",
       "<style>\n",
       "    /* Turns off some styling */\n",
       "    progress {\n",
       "        /* gets rid of default border in Firefox and Opera. */\n",
       "        border: none;\n",
       "        /* Needs to be in here for Safari polyfill so background images work as expected. */\n",
       "        background-size: auto;\n",
       "    }\n",
       "    progress:not([value]), progress:not([value])::-webkit-progress-bar {\n",
       "        background: repeating-linear-gradient(45deg, #7e7e7e, #7e7e7e 10px, #5c5c5c 10px, #5c5c5c 20px);\n",
       "    }\n",
       "    .progress-bar-interrupted, .progress-bar-interrupted::-webkit-progress-bar {\n",
       "        background: #F44336;\n",
       "    }\n",
       "</style>\n"
      ],
      "text/plain": [
       "<IPython.core.display.HTML object>"
      ]
     },
     "metadata": {},
     "output_type": "display_data"
    },
    {
     "data": {
      "text/html": [
       "\n",
       "    <div>\n",
       "      <progress value='400' class='' max='400' style='width:300px; height:20px; vertical-align: middle;'></progress>\n",
       "      100.00% [400/400 00:00&lt;? Chain: 4/4 Stage: 4 Beta: 1.000]\n",
       "    </div>\n",
       "    "
      ],
      "text/plain": [
       "<IPython.core.display.HTML object>"
      ]
     },
     "metadata": {},
     "output_type": "display_data"
    },
    {
     "name": "stdout",
     "output_type": "stream",
     "text": [
      "    "
     ]
    },
    {
     "name": "stderr",
     "output_type": "stream",
     "text": [
      "The rhat statistic is larger than 1.01 for some parameters. This indicates problems during sampling. See https://arxiv.org/abs/1903.08008 for details\n",
      "The effective sample size per chain is smaller than 100 for some parameters.  A higher number is needed for reliable rhat and ess computation. See https://arxiv.org/abs/1903.08008 for details\n"
     ]
    },
    {
     "name": "stdout",
     "output_type": "stream",
     "text": [
      "['ERK_tot', 'ki39', 'kd39', 'kc41', 'kc43', 'kc45', 'kc47']\n"
     ]
    }
   ],
   "source": [
    "psis_loo_cv_modified = psis_loo_cv.copy()\n",
    "psis_loo_cv_modified.pareto_k[:] = 1.0 # set all pareto k values to 1 so we perform full LOO-CV\n",
    "\n",
    "loo_relooed_full = az.reloo(wrapped_model,  loo_orig=psis_loo_cv_modified, k_thresh=0.7)"
   ]
  },
  {
   "cell_type": "code",
   "execution_count": 318,
   "metadata": {},
   "outputs": [
    {
     "name": "stdout",
     "output_type": "stream",
     "text": [
      "PSIS-LOO-CV estimated the ELPD as -5.694314762714856 (with SE 4.001329722867008)\n",
      "Full LOO-CV computed the ELPD as -5.428435721107991 (with SE 6.715235483089525)\n",
      "WAIC computed the ELPD as -2.741641545396009 (with SE 3.546477023542218)\n"
     ]
    }
   ],
   "source": [
    "print('PSIS-LOO-CV estimated the ELPD as {} (with SE {})'.format(psis_loo_cv.elpd_loo, psis_loo_cv.se))\n",
    "print('Full LOO-CV computed the ELPD as {} (with SE {})'.format(loo_relooed_full.elpd_loo, loo_relooed_full.se))\n",
    "print('WAIC computed the ELPD as {} (with SE {})'.format(waic.elpd_waic, waic.se))"
   ]
  },
  {
   "cell_type": "code",
   "execution_count": 322,
   "metadata": {},
   "outputs": [],
   "source": [
    "results_df = pd.DataFrame({'LOO-CV methods': ['PSIS-LOO-CV', 'Full LOO-CV', 'WAIC'], 'ELPD': [psis_loo_cv.elpd_loo, loo_relooed_full.elpd_loo, waic.elpd_waic], 'SE': [psis_loo_cv.se, loo_relooed_full.se, waic.se]})\n",
    "results_df.to_csv('../../../results/MAPK/param_est/HF96_synthetic_data/loo_cv_results.csv', index=False)"
   ]
  },
  {
   "cell_type": "markdown",
   "metadata": {},
   "source": [
    "### Results\n",
    "PSIS-LOO-CV and LOO-CV are very similar, despite some problematic data points (k > 0.7). The WAIC approximation is not as good."
   ]
  },
  {
   "cell_type": "code",
   "execution_count": 323,
   "metadata": {},
   "outputs": [
    {
     "data": {
      "text/html": [
       "<div>\n",
       "<style scoped>\n",
       "    .dataframe tbody tr th:only-of-type {\n",
       "        vertical-align: middle;\n",
       "    }\n",
       "\n",
       "    .dataframe tbody tr th {\n",
       "        vertical-align: top;\n",
       "    }\n",
       "\n",
       "    .dataframe thead th {\n",
       "        text-align: right;\n",
       "    }\n",
       "</style>\n",
       "<table border=\"1\" class=\"dataframe\">\n",
       "  <thead>\n",
       "    <tr style=\"text-align: right;\">\n",
       "      <th></th>\n",
       "      <th>LOO-CV methods</th>\n",
       "      <th>ELPD</th>\n",
       "      <th>SE</th>\n",
       "    </tr>\n",
       "  </thead>\n",
       "  <tbody>\n",
       "    <tr>\n",
       "      <th>0</th>\n",
       "      <td>PSIS-LOO-CV</td>\n",
       "      <td>-5.694315</td>\n",
       "      <td>4.001330</td>\n",
       "    </tr>\n",
       "    <tr>\n",
       "      <th>1</th>\n",
       "      <td>Full LOO-CV</td>\n",
       "      <td>-5.428436</td>\n",
       "      <td>6.715235</td>\n",
       "    </tr>\n",
       "    <tr>\n",
       "      <th>2</th>\n",
       "      <td>WAIC</td>\n",
       "      <td>-2.741642</td>\n",
       "      <td>3.546477</td>\n",
       "    </tr>\n",
       "  </tbody>\n",
       "</table>\n",
       "</div>"
      ],
      "text/plain": [
       "  LOO-CV methods      ELPD        SE\n",
       "0    PSIS-LOO-CV -5.694315  4.001330\n",
       "1    Full LOO-CV -5.428436  6.715235\n",
       "2           WAIC -2.741642  3.546477"
      ]
     },
     "execution_count": 323,
     "metadata": {},
     "output_type": "execute_result"
    }
   ],
   "source": [
    "results_df"
   ]
  }
 ],
 "metadata": {
  "kernelspec": {
   "display_name": "pymc",
   "language": "python",
   "name": "python3"
  },
  "language_info": {
   "codemirror_mode": {
    "name": "ipython",
    "version": 3
   },
   "file_extension": ".py",
   "mimetype": "text/x-python",
   "name": "python",
   "nbconvert_exporter": "python",
   "pygments_lexer": "ipython3",
   "version": "3.11.6"
  }
 },
 "nbformat": 4,
 "nbformat_minor": 2
}
